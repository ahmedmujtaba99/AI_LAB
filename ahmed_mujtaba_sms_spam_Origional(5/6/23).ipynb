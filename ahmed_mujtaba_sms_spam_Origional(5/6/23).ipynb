{
  "nbformat": 4,
  "nbformat_minor": 0,
  "metadata": {
    "colab": {
      "provenance": [],
      "include_colab_link": true
    },
    "kernelspec": {
      "name": "python3",
      "display_name": "Python 3"
    },
    "language_info": {
      "name": "python"
    }
  },
  "cells": [
    {
      "cell_type": "markdown",
      "metadata": {
        "id": "view-in-github",
        "colab_type": "text"
      },
      "source": [
        "<a href=\"https://colab.research.google.com/github/ahmedmujtaba99/AI_LAB/blob/main/ahmed_mujtaba_sms_spam_Origional(5/6/23).ipynb\" target=\"_parent\"><img src=\"https://colab.research.google.com/assets/colab-badge.svg\" alt=\"Open In Colab\"/></a>"
      ]
    },
    {
      "cell_type": "code",
      "execution_count": 1,
      "metadata": {
        "id": "a6V90tIaLGOO"
      },
      "outputs": [],
      "source": [
        "import numpy as np\n",
        "import pandas as pd"
      ]
    },
    {
      "cell_type": "code",
      "source": [
        "df = pd.read_csv(\"spam.csv\", encoding=\"latin-1\") \n",
        "df"
      ],
      "metadata": {
        "colab": {
          "base_uri": "https://localhost:8080/",
          "height": 424
        },
        "id": "x7rKHWefMDy7",
        "outputId": "192af916-55ed-432c-a4cc-d2c9dc359db5"
      },
      "execution_count": 2,
      "outputs": [
        {
          "output_type": "execute_result",
          "data": {
            "text/plain": [
              "        v1                                                 v2 Unnamed: 2  \\\n",
              "0      ham  Go until jurong point, crazy.. Available only ...        NaN   \n",
              "1      ham                      Ok lar... Joking wif u oni...        NaN   \n",
              "2     spam  Free entry in 2 a wkly comp to win FA Cup fina...        NaN   \n",
              "3      ham  U dun say so early hor... U c already then say...        NaN   \n",
              "4      ham  Nah I don't think he goes to usf, he lives aro...        NaN   \n",
              "...    ...                                                ...        ...   \n",
              "5567  spam  This is the 2nd time we have tried 2 contact u...        NaN   \n",
              "5568   ham              Will Ì_ b going to esplanade fr home?        NaN   \n",
              "5569   ham  Pity, * was in mood for that. So...any other s...        NaN   \n",
              "5570   ham  The guy did some bitching but I acted like i'd...        NaN   \n",
              "5571   ham                         Rofl. Its true to its name        NaN   \n",
              "\n",
              "     Unnamed: 3 Unnamed: 4  \n",
              "0           NaN        NaN  \n",
              "1           NaN        NaN  \n",
              "2           NaN        NaN  \n",
              "3           NaN        NaN  \n",
              "4           NaN        NaN  \n",
              "...         ...        ...  \n",
              "5567        NaN        NaN  \n",
              "5568        NaN        NaN  \n",
              "5569        NaN        NaN  \n",
              "5570        NaN        NaN  \n",
              "5571        NaN        NaN  \n",
              "\n",
              "[5572 rows x 5 columns]"
            ],
            "text/html": [
              "\n",
              "  <div id=\"df-70dcd00d-805d-4cad-b040-76f7545e9ff6\">\n",
              "    <div class=\"colab-df-container\">\n",
              "      <div>\n",
              "<style scoped>\n",
              "    .dataframe tbody tr th:only-of-type {\n",
              "        vertical-align: middle;\n",
              "    }\n",
              "\n",
              "    .dataframe tbody tr th {\n",
              "        vertical-align: top;\n",
              "    }\n",
              "\n",
              "    .dataframe thead th {\n",
              "        text-align: right;\n",
              "    }\n",
              "</style>\n",
              "<table border=\"1\" class=\"dataframe\">\n",
              "  <thead>\n",
              "    <tr style=\"text-align: right;\">\n",
              "      <th></th>\n",
              "      <th>v1</th>\n",
              "      <th>v2</th>\n",
              "      <th>Unnamed: 2</th>\n",
              "      <th>Unnamed: 3</th>\n",
              "      <th>Unnamed: 4</th>\n",
              "    </tr>\n",
              "  </thead>\n",
              "  <tbody>\n",
              "    <tr>\n",
              "      <th>0</th>\n",
              "      <td>ham</td>\n",
              "      <td>Go until jurong point, crazy.. Available only ...</td>\n",
              "      <td>NaN</td>\n",
              "      <td>NaN</td>\n",
              "      <td>NaN</td>\n",
              "    </tr>\n",
              "    <tr>\n",
              "      <th>1</th>\n",
              "      <td>ham</td>\n",
              "      <td>Ok lar... Joking wif u oni...</td>\n",
              "      <td>NaN</td>\n",
              "      <td>NaN</td>\n",
              "      <td>NaN</td>\n",
              "    </tr>\n",
              "    <tr>\n",
              "      <th>2</th>\n",
              "      <td>spam</td>\n",
              "      <td>Free entry in 2 a wkly comp to win FA Cup fina...</td>\n",
              "      <td>NaN</td>\n",
              "      <td>NaN</td>\n",
              "      <td>NaN</td>\n",
              "    </tr>\n",
              "    <tr>\n",
              "      <th>3</th>\n",
              "      <td>ham</td>\n",
              "      <td>U dun say so early hor... U c already then say...</td>\n",
              "      <td>NaN</td>\n",
              "      <td>NaN</td>\n",
              "      <td>NaN</td>\n",
              "    </tr>\n",
              "    <tr>\n",
              "      <th>4</th>\n",
              "      <td>ham</td>\n",
              "      <td>Nah I don't think he goes to usf, he lives aro...</td>\n",
              "      <td>NaN</td>\n",
              "      <td>NaN</td>\n",
              "      <td>NaN</td>\n",
              "    </tr>\n",
              "    <tr>\n",
              "      <th>...</th>\n",
              "      <td>...</td>\n",
              "      <td>...</td>\n",
              "      <td>...</td>\n",
              "      <td>...</td>\n",
              "      <td>...</td>\n",
              "    </tr>\n",
              "    <tr>\n",
              "      <th>5567</th>\n",
              "      <td>spam</td>\n",
              "      <td>This is the 2nd time we have tried 2 contact u...</td>\n",
              "      <td>NaN</td>\n",
              "      <td>NaN</td>\n",
              "      <td>NaN</td>\n",
              "    </tr>\n",
              "    <tr>\n",
              "      <th>5568</th>\n",
              "      <td>ham</td>\n",
              "      <td>Will Ì_ b going to esplanade fr home?</td>\n",
              "      <td>NaN</td>\n",
              "      <td>NaN</td>\n",
              "      <td>NaN</td>\n",
              "    </tr>\n",
              "    <tr>\n",
              "      <th>5569</th>\n",
              "      <td>ham</td>\n",
              "      <td>Pity, * was in mood for that. So...any other s...</td>\n",
              "      <td>NaN</td>\n",
              "      <td>NaN</td>\n",
              "      <td>NaN</td>\n",
              "    </tr>\n",
              "    <tr>\n",
              "      <th>5570</th>\n",
              "      <td>ham</td>\n",
              "      <td>The guy did some bitching but I acted like i'd...</td>\n",
              "      <td>NaN</td>\n",
              "      <td>NaN</td>\n",
              "      <td>NaN</td>\n",
              "    </tr>\n",
              "    <tr>\n",
              "      <th>5571</th>\n",
              "      <td>ham</td>\n",
              "      <td>Rofl. Its true to its name</td>\n",
              "      <td>NaN</td>\n",
              "      <td>NaN</td>\n",
              "      <td>NaN</td>\n",
              "    </tr>\n",
              "  </tbody>\n",
              "</table>\n",
              "<p>5572 rows × 5 columns</p>\n",
              "</div>\n",
              "      <button class=\"colab-df-convert\" onclick=\"convertToInteractive('df-70dcd00d-805d-4cad-b040-76f7545e9ff6')\"\n",
              "              title=\"Convert this dataframe to an interactive table.\"\n",
              "              style=\"display:none;\">\n",
              "        \n",
              "  <svg xmlns=\"http://www.w3.org/2000/svg\" height=\"24px\"viewBox=\"0 0 24 24\"\n",
              "       width=\"24px\">\n",
              "    <path d=\"M0 0h24v24H0V0z\" fill=\"none\"/>\n",
              "    <path d=\"M18.56 5.44l.94 2.06.94-2.06 2.06-.94-2.06-.94-.94-2.06-.94 2.06-2.06.94zm-11 1L8.5 8.5l.94-2.06 2.06-.94-2.06-.94L8.5 2.5l-.94 2.06-2.06.94zm10 10l.94 2.06.94-2.06 2.06-.94-2.06-.94-.94-2.06-.94 2.06-2.06.94z\"/><path d=\"M17.41 7.96l-1.37-1.37c-.4-.4-.92-.59-1.43-.59-.52 0-1.04.2-1.43.59L10.3 9.45l-7.72 7.72c-.78.78-.78 2.05 0 2.83L4 21.41c.39.39.9.59 1.41.59.51 0 1.02-.2 1.41-.59l7.78-7.78 2.81-2.81c.8-.78.8-2.07 0-2.86zM5.41 20L4 18.59l7.72-7.72 1.47 1.35L5.41 20z\"/>\n",
              "  </svg>\n",
              "      </button>\n",
              "      \n",
              "  <style>\n",
              "    .colab-df-container {\n",
              "      display:flex;\n",
              "      flex-wrap:wrap;\n",
              "      gap: 12px;\n",
              "    }\n",
              "\n",
              "    .colab-df-convert {\n",
              "      background-color: #E8F0FE;\n",
              "      border: none;\n",
              "      border-radius: 50%;\n",
              "      cursor: pointer;\n",
              "      display: none;\n",
              "      fill: #1967D2;\n",
              "      height: 32px;\n",
              "      padding: 0 0 0 0;\n",
              "      width: 32px;\n",
              "    }\n",
              "\n",
              "    .colab-df-convert:hover {\n",
              "      background-color: #E2EBFA;\n",
              "      box-shadow: 0px 1px 2px rgba(60, 64, 67, 0.3), 0px 1px 3px 1px rgba(60, 64, 67, 0.15);\n",
              "      fill: #174EA6;\n",
              "    }\n",
              "\n",
              "    [theme=dark] .colab-df-convert {\n",
              "      background-color: #3B4455;\n",
              "      fill: #D2E3FC;\n",
              "    }\n",
              "\n",
              "    [theme=dark] .colab-df-convert:hover {\n",
              "      background-color: #434B5C;\n",
              "      box-shadow: 0px 1px 3px 1px rgba(0, 0, 0, 0.15);\n",
              "      filter: drop-shadow(0px 1px 2px rgba(0, 0, 0, 0.3));\n",
              "      fill: #FFFFFF;\n",
              "    }\n",
              "  </style>\n",
              "\n",
              "      <script>\n",
              "        const buttonEl =\n",
              "          document.querySelector('#df-70dcd00d-805d-4cad-b040-76f7545e9ff6 button.colab-df-convert');\n",
              "        buttonEl.style.display =\n",
              "          google.colab.kernel.accessAllowed ? 'block' : 'none';\n",
              "\n",
              "        async function convertToInteractive(key) {\n",
              "          const element = document.querySelector('#df-70dcd00d-805d-4cad-b040-76f7545e9ff6');\n",
              "          const dataTable =\n",
              "            await google.colab.kernel.invokeFunction('convertToInteractive',\n",
              "                                                     [key], {});\n",
              "          if (!dataTable) return;\n",
              "\n",
              "          const docLinkHtml = 'Like what you see? Visit the ' +\n",
              "            '<a target=\"_blank\" href=https://colab.research.google.com/notebooks/data_table.ipynb>data table notebook</a>'\n",
              "            + ' to learn more about interactive tables.';\n",
              "          element.innerHTML = '';\n",
              "          dataTable['output_type'] = 'display_data';\n",
              "          await google.colab.output.renderOutput(dataTable, element);\n",
              "          const docLink = document.createElement('div');\n",
              "          docLink.innerHTML = docLinkHtml;\n",
              "          element.appendChild(docLink);\n",
              "        }\n",
              "      </script>\n",
              "    </div>\n",
              "  </div>\n",
              "  "
            ]
          },
          "metadata": {},
          "execution_count": 2
        }
      ]
    },
    {
      "cell_type": "code",
      "source": [
        "df['v1'] = df.v1.map({'ham':0, 'spam':1})\n",
        "df\n"
      ],
      "metadata": {
        "colab": {
          "base_uri": "https://localhost:8080/",
          "height": 424
        },
        "id": "e_tWe_h6MYOw",
        "outputId": "c5e5ede1-6502-4942-9a3d-f1a4a7e1ca3d"
      },
      "execution_count": 3,
      "outputs": [
        {
          "output_type": "execute_result",
          "data": {
            "text/plain": [
              "      v1                                                 v2 Unnamed: 2  \\\n",
              "0      0  Go until jurong point, crazy.. Available only ...        NaN   \n",
              "1      0                      Ok lar... Joking wif u oni...        NaN   \n",
              "2      1  Free entry in 2 a wkly comp to win FA Cup fina...        NaN   \n",
              "3      0  U dun say so early hor... U c already then say...        NaN   \n",
              "4      0  Nah I don't think he goes to usf, he lives aro...        NaN   \n",
              "...   ..                                                ...        ...   \n",
              "5567   1  This is the 2nd time we have tried 2 contact u...        NaN   \n",
              "5568   0              Will Ì_ b going to esplanade fr home?        NaN   \n",
              "5569   0  Pity, * was in mood for that. So...any other s...        NaN   \n",
              "5570   0  The guy did some bitching but I acted like i'd...        NaN   \n",
              "5571   0                         Rofl. Its true to its name        NaN   \n",
              "\n",
              "     Unnamed: 3 Unnamed: 4  \n",
              "0           NaN        NaN  \n",
              "1           NaN        NaN  \n",
              "2           NaN        NaN  \n",
              "3           NaN        NaN  \n",
              "4           NaN        NaN  \n",
              "...         ...        ...  \n",
              "5567        NaN        NaN  \n",
              "5568        NaN        NaN  \n",
              "5569        NaN        NaN  \n",
              "5570        NaN        NaN  \n",
              "5571        NaN        NaN  \n",
              "\n",
              "[5572 rows x 5 columns]"
            ],
            "text/html": [
              "\n",
              "  <div id=\"df-8796e505-1f80-4e52-8936-7e99aad8665c\">\n",
              "    <div class=\"colab-df-container\">\n",
              "      <div>\n",
              "<style scoped>\n",
              "    .dataframe tbody tr th:only-of-type {\n",
              "        vertical-align: middle;\n",
              "    }\n",
              "\n",
              "    .dataframe tbody tr th {\n",
              "        vertical-align: top;\n",
              "    }\n",
              "\n",
              "    .dataframe thead th {\n",
              "        text-align: right;\n",
              "    }\n",
              "</style>\n",
              "<table border=\"1\" class=\"dataframe\">\n",
              "  <thead>\n",
              "    <tr style=\"text-align: right;\">\n",
              "      <th></th>\n",
              "      <th>v1</th>\n",
              "      <th>v2</th>\n",
              "      <th>Unnamed: 2</th>\n",
              "      <th>Unnamed: 3</th>\n",
              "      <th>Unnamed: 4</th>\n",
              "    </tr>\n",
              "  </thead>\n",
              "  <tbody>\n",
              "    <tr>\n",
              "      <th>0</th>\n",
              "      <td>0</td>\n",
              "      <td>Go until jurong point, crazy.. Available only ...</td>\n",
              "      <td>NaN</td>\n",
              "      <td>NaN</td>\n",
              "      <td>NaN</td>\n",
              "    </tr>\n",
              "    <tr>\n",
              "      <th>1</th>\n",
              "      <td>0</td>\n",
              "      <td>Ok lar... Joking wif u oni...</td>\n",
              "      <td>NaN</td>\n",
              "      <td>NaN</td>\n",
              "      <td>NaN</td>\n",
              "    </tr>\n",
              "    <tr>\n",
              "      <th>2</th>\n",
              "      <td>1</td>\n",
              "      <td>Free entry in 2 a wkly comp to win FA Cup fina...</td>\n",
              "      <td>NaN</td>\n",
              "      <td>NaN</td>\n",
              "      <td>NaN</td>\n",
              "    </tr>\n",
              "    <tr>\n",
              "      <th>3</th>\n",
              "      <td>0</td>\n",
              "      <td>U dun say so early hor... U c already then say...</td>\n",
              "      <td>NaN</td>\n",
              "      <td>NaN</td>\n",
              "      <td>NaN</td>\n",
              "    </tr>\n",
              "    <tr>\n",
              "      <th>4</th>\n",
              "      <td>0</td>\n",
              "      <td>Nah I don't think he goes to usf, he lives aro...</td>\n",
              "      <td>NaN</td>\n",
              "      <td>NaN</td>\n",
              "      <td>NaN</td>\n",
              "    </tr>\n",
              "    <tr>\n",
              "      <th>...</th>\n",
              "      <td>...</td>\n",
              "      <td>...</td>\n",
              "      <td>...</td>\n",
              "      <td>...</td>\n",
              "      <td>...</td>\n",
              "    </tr>\n",
              "    <tr>\n",
              "      <th>5567</th>\n",
              "      <td>1</td>\n",
              "      <td>This is the 2nd time we have tried 2 contact u...</td>\n",
              "      <td>NaN</td>\n",
              "      <td>NaN</td>\n",
              "      <td>NaN</td>\n",
              "    </tr>\n",
              "    <tr>\n",
              "      <th>5568</th>\n",
              "      <td>0</td>\n",
              "      <td>Will Ì_ b going to esplanade fr home?</td>\n",
              "      <td>NaN</td>\n",
              "      <td>NaN</td>\n",
              "      <td>NaN</td>\n",
              "    </tr>\n",
              "    <tr>\n",
              "      <th>5569</th>\n",
              "      <td>0</td>\n",
              "      <td>Pity, * was in mood for that. So...any other s...</td>\n",
              "      <td>NaN</td>\n",
              "      <td>NaN</td>\n",
              "      <td>NaN</td>\n",
              "    </tr>\n",
              "    <tr>\n",
              "      <th>5570</th>\n",
              "      <td>0</td>\n",
              "      <td>The guy did some bitching but I acted like i'd...</td>\n",
              "      <td>NaN</td>\n",
              "      <td>NaN</td>\n",
              "      <td>NaN</td>\n",
              "    </tr>\n",
              "    <tr>\n",
              "      <th>5571</th>\n",
              "      <td>0</td>\n",
              "      <td>Rofl. Its true to its name</td>\n",
              "      <td>NaN</td>\n",
              "      <td>NaN</td>\n",
              "      <td>NaN</td>\n",
              "    </tr>\n",
              "  </tbody>\n",
              "</table>\n",
              "<p>5572 rows × 5 columns</p>\n",
              "</div>\n",
              "      <button class=\"colab-df-convert\" onclick=\"convertToInteractive('df-8796e505-1f80-4e52-8936-7e99aad8665c')\"\n",
              "              title=\"Convert this dataframe to an interactive table.\"\n",
              "              style=\"display:none;\">\n",
              "        \n",
              "  <svg xmlns=\"http://www.w3.org/2000/svg\" height=\"24px\"viewBox=\"0 0 24 24\"\n",
              "       width=\"24px\">\n",
              "    <path d=\"M0 0h24v24H0V0z\" fill=\"none\"/>\n",
              "    <path d=\"M18.56 5.44l.94 2.06.94-2.06 2.06-.94-2.06-.94-.94-2.06-.94 2.06-2.06.94zm-11 1L8.5 8.5l.94-2.06 2.06-.94-2.06-.94L8.5 2.5l-.94 2.06-2.06.94zm10 10l.94 2.06.94-2.06 2.06-.94-2.06-.94-.94-2.06-.94 2.06-2.06.94z\"/><path d=\"M17.41 7.96l-1.37-1.37c-.4-.4-.92-.59-1.43-.59-.52 0-1.04.2-1.43.59L10.3 9.45l-7.72 7.72c-.78.78-.78 2.05 0 2.83L4 21.41c.39.39.9.59 1.41.59.51 0 1.02-.2 1.41-.59l7.78-7.78 2.81-2.81c.8-.78.8-2.07 0-2.86zM5.41 20L4 18.59l7.72-7.72 1.47 1.35L5.41 20z\"/>\n",
              "  </svg>\n",
              "      </button>\n",
              "      \n",
              "  <style>\n",
              "    .colab-df-container {\n",
              "      display:flex;\n",
              "      flex-wrap:wrap;\n",
              "      gap: 12px;\n",
              "    }\n",
              "\n",
              "    .colab-df-convert {\n",
              "      background-color: #E8F0FE;\n",
              "      border: none;\n",
              "      border-radius: 50%;\n",
              "      cursor: pointer;\n",
              "      display: none;\n",
              "      fill: #1967D2;\n",
              "      height: 32px;\n",
              "      padding: 0 0 0 0;\n",
              "      width: 32px;\n",
              "    }\n",
              "\n",
              "    .colab-df-convert:hover {\n",
              "      background-color: #E2EBFA;\n",
              "      box-shadow: 0px 1px 2px rgba(60, 64, 67, 0.3), 0px 1px 3px 1px rgba(60, 64, 67, 0.15);\n",
              "      fill: #174EA6;\n",
              "    }\n",
              "\n",
              "    [theme=dark] .colab-df-convert {\n",
              "      background-color: #3B4455;\n",
              "      fill: #D2E3FC;\n",
              "    }\n",
              "\n",
              "    [theme=dark] .colab-df-convert:hover {\n",
              "      background-color: #434B5C;\n",
              "      box-shadow: 0px 1px 3px 1px rgba(0, 0, 0, 0.15);\n",
              "      filter: drop-shadow(0px 1px 2px rgba(0, 0, 0, 0.3));\n",
              "      fill: #FFFFFF;\n",
              "    }\n",
              "  </style>\n",
              "\n",
              "      <script>\n",
              "        const buttonEl =\n",
              "          document.querySelector('#df-8796e505-1f80-4e52-8936-7e99aad8665c button.colab-df-convert');\n",
              "        buttonEl.style.display =\n",
              "          google.colab.kernel.accessAllowed ? 'block' : 'none';\n",
              "\n",
              "        async function convertToInteractive(key) {\n",
              "          const element = document.querySelector('#df-8796e505-1f80-4e52-8936-7e99aad8665c');\n",
              "          const dataTable =\n",
              "            await google.colab.kernel.invokeFunction('convertToInteractive',\n",
              "                                                     [key], {});\n",
              "          if (!dataTable) return;\n",
              "\n",
              "          const docLinkHtml = 'Like what you see? Visit the ' +\n",
              "            '<a target=\"_blank\" href=https://colab.research.google.com/notebooks/data_table.ipynb>data table notebook</a>'\n",
              "            + ' to learn more about interactive tables.';\n",
              "          element.innerHTML = '';\n",
              "          dataTable['output_type'] = 'display_data';\n",
              "          await google.colab.output.renderOutput(dataTable, element);\n",
              "          const docLink = document.createElement('div');\n",
              "          docLink.innerHTML = docLinkHtml;\n",
              "          element.appendChild(docLink);\n",
              "        }\n",
              "      </script>\n",
              "    </div>\n",
              "  </div>\n",
              "  "
            ]
          },
          "metadata": {},
          "execution_count": 3
        }
      ]
    },
    {
      "cell_type": "code",
      "source": [
        "df.head(10)"
      ],
      "metadata": {
        "colab": {
          "base_uri": "https://localhost:8080/",
          "height": 363
        },
        "id": "uMY2eXNat9ok",
        "outputId": "7d1009db-5fa4-43ef-9e00-cfd28187eba6"
      },
      "execution_count": 4,
      "outputs": [
        {
          "output_type": "execute_result",
          "data": {
            "text/plain": [
              "   v1                                                 v2 Unnamed: 2  \\\n",
              "0   0  Go until jurong point, crazy.. Available only ...        NaN   \n",
              "1   0                      Ok lar... Joking wif u oni...        NaN   \n",
              "2   1  Free entry in 2 a wkly comp to win FA Cup fina...        NaN   \n",
              "3   0  U dun say so early hor... U c already then say...        NaN   \n",
              "4   0  Nah I don't think he goes to usf, he lives aro...        NaN   \n",
              "5   1  FreeMsg Hey there darling it's been 3 week's n...        NaN   \n",
              "6   0  Even my brother is not like to speak with me. ...        NaN   \n",
              "7   0  As per your request 'Melle Melle (Oru Minnamin...        NaN   \n",
              "8   1  WINNER!! As a valued network customer you have...        NaN   \n",
              "9   1  Had your mobile 11 months or more? U R entitle...        NaN   \n",
              "\n",
              "  Unnamed: 3 Unnamed: 4  \n",
              "0        NaN        NaN  \n",
              "1        NaN        NaN  \n",
              "2        NaN        NaN  \n",
              "3        NaN        NaN  \n",
              "4        NaN        NaN  \n",
              "5        NaN        NaN  \n",
              "6        NaN        NaN  \n",
              "7        NaN        NaN  \n",
              "8        NaN        NaN  \n",
              "9        NaN        NaN  "
            ],
            "text/html": [
              "\n",
              "  <div id=\"df-85ccec4f-37ac-44e7-80de-52e72d4e4cc8\">\n",
              "    <div class=\"colab-df-container\">\n",
              "      <div>\n",
              "<style scoped>\n",
              "    .dataframe tbody tr th:only-of-type {\n",
              "        vertical-align: middle;\n",
              "    }\n",
              "\n",
              "    .dataframe tbody tr th {\n",
              "        vertical-align: top;\n",
              "    }\n",
              "\n",
              "    .dataframe thead th {\n",
              "        text-align: right;\n",
              "    }\n",
              "</style>\n",
              "<table border=\"1\" class=\"dataframe\">\n",
              "  <thead>\n",
              "    <tr style=\"text-align: right;\">\n",
              "      <th></th>\n",
              "      <th>v1</th>\n",
              "      <th>v2</th>\n",
              "      <th>Unnamed: 2</th>\n",
              "      <th>Unnamed: 3</th>\n",
              "      <th>Unnamed: 4</th>\n",
              "    </tr>\n",
              "  </thead>\n",
              "  <tbody>\n",
              "    <tr>\n",
              "      <th>0</th>\n",
              "      <td>0</td>\n",
              "      <td>Go until jurong point, crazy.. Available only ...</td>\n",
              "      <td>NaN</td>\n",
              "      <td>NaN</td>\n",
              "      <td>NaN</td>\n",
              "    </tr>\n",
              "    <tr>\n",
              "      <th>1</th>\n",
              "      <td>0</td>\n",
              "      <td>Ok lar... Joking wif u oni...</td>\n",
              "      <td>NaN</td>\n",
              "      <td>NaN</td>\n",
              "      <td>NaN</td>\n",
              "    </tr>\n",
              "    <tr>\n",
              "      <th>2</th>\n",
              "      <td>1</td>\n",
              "      <td>Free entry in 2 a wkly comp to win FA Cup fina...</td>\n",
              "      <td>NaN</td>\n",
              "      <td>NaN</td>\n",
              "      <td>NaN</td>\n",
              "    </tr>\n",
              "    <tr>\n",
              "      <th>3</th>\n",
              "      <td>0</td>\n",
              "      <td>U dun say so early hor... U c already then say...</td>\n",
              "      <td>NaN</td>\n",
              "      <td>NaN</td>\n",
              "      <td>NaN</td>\n",
              "    </tr>\n",
              "    <tr>\n",
              "      <th>4</th>\n",
              "      <td>0</td>\n",
              "      <td>Nah I don't think he goes to usf, he lives aro...</td>\n",
              "      <td>NaN</td>\n",
              "      <td>NaN</td>\n",
              "      <td>NaN</td>\n",
              "    </tr>\n",
              "    <tr>\n",
              "      <th>5</th>\n",
              "      <td>1</td>\n",
              "      <td>FreeMsg Hey there darling it's been 3 week's n...</td>\n",
              "      <td>NaN</td>\n",
              "      <td>NaN</td>\n",
              "      <td>NaN</td>\n",
              "    </tr>\n",
              "    <tr>\n",
              "      <th>6</th>\n",
              "      <td>0</td>\n",
              "      <td>Even my brother is not like to speak with me. ...</td>\n",
              "      <td>NaN</td>\n",
              "      <td>NaN</td>\n",
              "      <td>NaN</td>\n",
              "    </tr>\n",
              "    <tr>\n",
              "      <th>7</th>\n",
              "      <td>0</td>\n",
              "      <td>As per your request 'Melle Melle (Oru Minnamin...</td>\n",
              "      <td>NaN</td>\n",
              "      <td>NaN</td>\n",
              "      <td>NaN</td>\n",
              "    </tr>\n",
              "    <tr>\n",
              "      <th>8</th>\n",
              "      <td>1</td>\n",
              "      <td>WINNER!! As a valued network customer you have...</td>\n",
              "      <td>NaN</td>\n",
              "      <td>NaN</td>\n",
              "      <td>NaN</td>\n",
              "    </tr>\n",
              "    <tr>\n",
              "      <th>9</th>\n",
              "      <td>1</td>\n",
              "      <td>Had your mobile 11 months or more? U R entitle...</td>\n",
              "      <td>NaN</td>\n",
              "      <td>NaN</td>\n",
              "      <td>NaN</td>\n",
              "    </tr>\n",
              "  </tbody>\n",
              "</table>\n",
              "</div>\n",
              "      <button class=\"colab-df-convert\" onclick=\"convertToInteractive('df-85ccec4f-37ac-44e7-80de-52e72d4e4cc8')\"\n",
              "              title=\"Convert this dataframe to an interactive table.\"\n",
              "              style=\"display:none;\">\n",
              "        \n",
              "  <svg xmlns=\"http://www.w3.org/2000/svg\" height=\"24px\"viewBox=\"0 0 24 24\"\n",
              "       width=\"24px\">\n",
              "    <path d=\"M0 0h24v24H0V0z\" fill=\"none\"/>\n",
              "    <path d=\"M18.56 5.44l.94 2.06.94-2.06 2.06-.94-2.06-.94-.94-2.06-.94 2.06-2.06.94zm-11 1L8.5 8.5l.94-2.06 2.06-.94-2.06-.94L8.5 2.5l-.94 2.06-2.06.94zm10 10l.94 2.06.94-2.06 2.06-.94-2.06-.94-.94-2.06-.94 2.06-2.06.94z\"/><path d=\"M17.41 7.96l-1.37-1.37c-.4-.4-.92-.59-1.43-.59-.52 0-1.04.2-1.43.59L10.3 9.45l-7.72 7.72c-.78.78-.78 2.05 0 2.83L4 21.41c.39.39.9.59 1.41.59.51 0 1.02-.2 1.41-.59l7.78-7.78 2.81-2.81c.8-.78.8-2.07 0-2.86zM5.41 20L4 18.59l7.72-7.72 1.47 1.35L5.41 20z\"/>\n",
              "  </svg>\n",
              "      </button>\n",
              "      \n",
              "  <style>\n",
              "    .colab-df-container {\n",
              "      display:flex;\n",
              "      flex-wrap:wrap;\n",
              "      gap: 12px;\n",
              "    }\n",
              "\n",
              "    .colab-df-convert {\n",
              "      background-color: #E8F0FE;\n",
              "      border: none;\n",
              "      border-radius: 50%;\n",
              "      cursor: pointer;\n",
              "      display: none;\n",
              "      fill: #1967D2;\n",
              "      height: 32px;\n",
              "      padding: 0 0 0 0;\n",
              "      width: 32px;\n",
              "    }\n",
              "\n",
              "    .colab-df-convert:hover {\n",
              "      background-color: #E2EBFA;\n",
              "      box-shadow: 0px 1px 2px rgba(60, 64, 67, 0.3), 0px 1px 3px 1px rgba(60, 64, 67, 0.15);\n",
              "      fill: #174EA6;\n",
              "    }\n",
              "\n",
              "    [theme=dark] .colab-df-convert {\n",
              "      background-color: #3B4455;\n",
              "      fill: #D2E3FC;\n",
              "    }\n",
              "\n",
              "    [theme=dark] .colab-df-convert:hover {\n",
              "      background-color: #434B5C;\n",
              "      box-shadow: 0px 1px 3px 1px rgba(0, 0, 0, 0.15);\n",
              "      filter: drop-shadow(0px 1px 2px rgba(0, 0, 0, 0.3));\n",
              "      fill: #FFFFFF;\n",
              "    }\n",
              "  </style>\n",
              "\n",
              "      <script>\n",
              "        const buttonEl =\n",
              "          document.querySelector('#df-85ccec4f-37ac-44e7-80de-52e72d4e4cc8 button.colab-df-convert');\n",
              "        buttonEl.style.display =\n",
              "          google.colab.kernel.accessAllowed ? 'block' : 'none';\n",
              "\n",
              "        async function convertToInteractive(key) {\n",
              "          const element = document.querySelector('#df-85ccec4f-37ac-44e7-80de-52e72d4e4cc8');\n",
              "          const dataTable =\n",
              "            await google.colab.kernel.invokeFunction('convertToInteractive',\n",
              "                                                     [key], {});\n",
              "          if (!dataTable) return;\n",
              "\n",
              "          const docLinkHtml = 'Like what you see? Visit the ' +\n",
              "            '<a target=\"_blank\" href=https://colab.research.google.com/notebooks/data_table.ipynb>data table notebook</a>'\n",
              "            + ' to learn more about interactive tables.';\n",
              "          element.innerHTML = '';\n",
              "          dataTable['output_type'] = 'display_data';\n",
              "          await google.colab.output.renderOutput(dataTable, element);\n",
              "          const docLink = document.createElement('div');\n",
              "          docLink.innerHTML = docLinkHtml;\n",
              "          element.appendChild(docLink);\n",
              "        }\n",
              "      </script>\n",
              "    </div>\n",
              "  </div>\n",
              "  "
            ]
          },
          "metadata": {},
          "execution_count": 4
        }
      ]
    },
    {
      "cell_type": "code",
      "source": [
        "df.tail(10)"
      ],
      "metadata": {
        "colab": {
          "base_uri": "https://localhost:8080/",
          "height": 363
        },
        "id": "WPeZeD51uOnz",
        "outputId": "26046424-b80c-4868-b600-5cdd6cf04a16"
      },
      "execution_count": 5,
      "outputs": [
        {
          "output_type": "execute_result",
          "data": {
            "text/plain": [
              "      v1                                                 v2 Unnamed: 2  \\\n",
              "5562   0  Ok lor... Sony ericsson salesman... I ask shuh...        NaN   \n",
              "5563   0                                Ard 6 like dat lor.        NaN   \n",
              "5564   0  Why don't you wait 'til at least wednesday to ...        NaN   \n",
              "5565   0                                       Huh y lei...        NaN   \n",
              "5566   1  REMINDER FROM O2: To get 2.50 pounds free call...        NaN   \n",
              "5567   1  This is the 2nd time we have tried 2 contact u...        NaN   \n",
              "5568   0              Will Ì_ b going to esplanade fr home?        NaN   \n",
              "5569   0  Pity, * was in mood for that. So...any other s...        NaN   \n",
              "5570   0  The guy did some bitching but I acted like i'd...        NaN   \n",
              "5571   0                         Rofl. Its true to its name        NaN   \n",
              "\n",
              "     Unnamed: 3 Unnamed: 4  \n",
              "5562        NaN        NaN  \n",
              "5563        NaN        NaN  \n",
              "5564        NaN        NaN  \n",
              "5565        NaN        NaN  \n",
              "5566        NaN        NaN  \n",
              "5567        NaN        NaN  \n",
              "5568        NaN        NaN  \n",
              "5569        NaN        NaN  \n",
              "5570        NaN        NaN  \n",
              "5571        NaN        NaN  "
            ],
            "text/html": [
              "\n",
              "  <div id=\"df-e097a512-a8af-4b57-aca7-931e1f90322d\">\n",
              "    <div class=\"colab-df-container\">\n",
              "      <div>\n",
              "<style scoped>\n",
              "    .dataframe tbody tr th:only-of-type {\n",
              "        vertical-align: middle;\n",
              "    }\n",
              "\n",
              "    .dataframe tbody tr th {\n",
              "        vertical-align: top;\n",
              "    }\n",
              "\n",
              "    .dataframe thead th {\n",
              "        text-align: right;\n",
              "    }\n",
              "</style>\n",
              "<table border=\"1\" class=\"dataframe\">\n",
              "  <thead>\n",
              "    <tr style=\"text-align: right;\">\n",
              "      <th></th>\n",
              "      <th>v1</th>\n",
              "      <th>v2</th>\n",
              "      <th>Unnamed: 2</th>\n",
              "      <th>Unnamed: 3</th>\n",
              "      <th>Unnamed: 4</th>\n",
              "    </tr>\n",
              "  </thead>\n",
              "  <tbody>\n",
              "    <tr>\n",
              "      <th>5562</th>\n",
              "      <td>0</td>\n",
              "      <td>Ok lor... Sony ericsson salesman... I ask shuh...</td>\n",
              "      <td>NaN</td>\n",
              "      <td>NaN</td>\n",
              "      <td>NaN</td>\n",
              "    </tr>\n",
              "    <tr>\n",
              "      <th>5563</th>\n",
              "      <td>0</td>\n",
              "      <td>Ard 6 like dat lor.</td>\n",
              "      <td>NaN</td>\n",
              "      <td>NaN</td>\n",
              "      <td>NaN</td>\n",
              "    </tr>\n",
              "    <tr>\n",
              "      <th>5564</th>\n",
              "      <td>0</td>\n",
              "      <td>Why don't you wait 'til at least wednesday to ...</td>\n",
              "      <td>NaN</td>\n",
              "      <td>NaN</td>\n",
              "      <td>NaN</td>\n",
              "    </tr>\n",
              "    <tr>\n",
              "      <th>5565</th>\n",
              "      <td>0</td>\n",
              "      <td>Huh y lei...</td>\n",
              "      <td>NaN</td>\n",
              "      <td>NaN</td>\n",
              "      <td>NaN</td>\n",
              "    </tr>\n",
              "    <tr>\n",
              "      <th>5566</th>\n",
              "      <td>1</td>\n",
              "      <td>REMINDER FROM O2: To get 2.50 pounds free call...</td>\n",
              "      <td>NaN</td>\n",
              "      <td>NaN</td>\n",
              "      <td>NaN</td>\n",
              "    </tr>\n",
              "    <tr>\n",
              "      <th>5567</th>\n",
              "      <td>1</td>\n",
              "      <td>This is the 2nd time we have tried 2 contact u...</td>\n",
              "      <td>NaN</td>\n",
              "      <td>NaN</td>\n",
              "      <td>NaN</td>\n",
              "    </tr>\n",
              "    <tr>\n",
              "      <th>5568</th>\n",
              "      <td>0</td>\n",
              "      <td>Will Ì_ b going to esplanade fr home?</td>\n",
              "      <td>NaN</td>\n",
              "      <td>NaN</td>\n",
              "      <td>NaN</td>\n",
              "    </tr>\n",
              "    <tr>\n",
              "      <th>5569</th>\n",
              "      <td>0</td>\n",
              "      <td>Pity, * was in mood for that. So...any other s...</td>\n",
              "      <td>NaN</td>\n",
              "      <td>NaN</td>\n",
              "      <td>NaN</td>\n",
              "    </tr>\n",
              "    <tr>\n",
              "      <th>5570</th>\n",
              "      <td>0</td>\n",
              "      <td>The guy did some bitching but I acted like i'd...</td>\n",
              "      <td>NaN</td>\n",
              "      <td>NaN</td>\n",
              "      <td>NaN</td>\n",
              "    </tr>\n",
              "    <tr>\n",
              "      <th>5571</th>\n",
              "      <td>0</td>\n",
              "      <td>Rofl. Its true to its name</td>\n",
              "      <td>NaN</td>\n",
              "      <td>NaN</td>\n",
              "      <td>NaN</td>\n",
              "    </tr>\n",
              "  </tbody>\n",
              "</table>\n",
              "</div>\n",
              "      <button class=\"colab-df-convert\" onclick=\"convertToInteractive('df-e097a512-a8af-4b57-aca7-931e1f90322d')\"\n",
              "              title=\"Convert this dataframe to an interactive table.\"\n",
              "              style=\"display:none;\">\n",
              "        \n",
              "  <svg xmlns=\"http://www.w3.org/2000/svg\" height=\"24px\"viewBox=\"0 0 24 24\"\n",
              "       width=\"24px\">\n",
              "    <path d=\"M0 0h24v24H0V0z\" fill=\"none\"/>\n",
              "    <path d=\"M18.56 5.44l.94 2.06.94-2.06 2.06-.94-2.06-.94-.94-2.06-.94 2.06-2.06.94zm-11 1L8.5 8.5l.94-2.06 2.06-.94-2.06-.94L8.5 2.5l-.94 2.06-2.06.94zm10 10l.94 2.06.94-2.06 2.06-.94-2.06-.94-.94-2.06-.94 2.06-2.06.94z\"/><path d=\"M17.41 7.96l-1.37-1.37c-.4-.4-.92-.59-1.43-.59-.52 0-1.04.2-1.43.59L10.3 9.45l-7.72 7.72c-.78.78-.78 2.05 0 2.83L4 21.41c.39.39.9.59 1.41.59.51 0 1.02-.2 1.41-.59l7.78-7.78 2.81-2.81c.8-.78.8-2.07 0-2.86zM5.41 20L4 18.59l7.72-7.72 1.47 1.35L5.41 20z\"/>\n",
              "  </svg>\n",
              "      </button>\n",
              "      \n",
              "  <style>\n",
              "    .colab-df-container {\n",
              "      display:flex;\n",
              "      flex-wrap:wrap;\n",
              "      gap: 12px;\n",
              "    }\n",
              "\n",
              "    .colab-df-convert {\n",
              "      background-color: #E8F0FE;\n",
              "      border: none;\n",
              "      border-radius: 50%;\n",
              "      cursor: pointer;\n",
              "      display: none;\n",
              "      fill: #1967D2;\n",
              "      height: 32px;\n",
              "      padding: 0 0 0 0;\n",
              "      width: 32px;\n",
              "    }\n",
              "\n",
              "    .colab-df-convert:hover {\n",
              "      background-color: #E2EBFA;\n",
              "      box-shadow: 0px 1px 2px rgba(60, 64, 67, 0.3), 0px 1px 3px 1px rgba(60, 64, 67, 0.15);\n",
              "      fill: #174EA6;\n",
              "    }\n",
              "\n",
              "    [theme=dark] .colab-df-convert {\n",
              "      background-color: #3B4455;\n",
              "      fill: #D2E3FC;\n",
              "    }\n",
              "\n",
              "    [theme=dark] .colab-df-convert:hover {\n",
              "      background-color: #434B5C;\n",
              "      box-shadow: 0px 1px 3px 1px rgba(0, 0, 0, 0.15);\n",
              "      filter: drop-shadow(0px 1px 2px rgba(0, 0, 0, 0.3));\n",
              "      fill: #FFFFFF;\n",
              "    }\n",
              "  </style>\n",
              "\n",
              "      <script>\n",
              "        const buttonEl =\n",
              "          document.querySelector('#df-e097a512-a8af-4b57-aca7-931e1f90322d button.colab-df-convert');\n",
              "        buttonEl.style.display =\n",
              "          google.colab.kernel.accessAllowed ? 'block' : 'none';\n",
              "\n",
              "        async function convertToInteractive(key) {\n",
              "          const element = document.querySelector('#df-e097a512-a8af-4b57-aca7-931e1f90322d');\n",
              "          const dataTable =\n",
              "            await google.colab.kernel.invokeFunction('convertToInteractive',\n",
              "                                                     [key], {});\n",
              "          if (!dataTable) return;\n",
              "\n",
              "          const docLinkHtml = 'Like what you see? Visit the ' +\n",
              "            '<a target=\"_blank\" href=https://colab.research.google.com/notebooks/data_table.ipynb>data table notebook</a>'\n",
              "            + ' to learn more about interactive tables.';\n",
              "          element.innerHTML = '';\n",
              "          dataTable['output_type'] = 'display_data';\n",
              "          await google.colab.output.renderOutput(dataTable, element);\n",
              "          const docLink = document.createElement('div');\n",
              "          docLink.innerHTML = docLinkHtml;\n",
              "          element.appendChild(docLink);\n",
              "        }\n",
              "      </script>\n",
              "    </div>\n",
              "  </div>\n",
              "  "
            ]
          },
          "metadata": {},
          "execution_count": 5
        }
      ]
    },
    {
      "cell_type": "code",
      "source": [
        "df.describe()"
      ],
      "metadata": {
        "colab": {
          "base_uri": "https://localhost:8080/",
          "height": 300
        },
        "id": "MvfQvy9nuXBe",
        "outputId": "6f2330df-9af5-4c2d-ada8-1e786e94a2f9"
      },
      "execution_count": 6,
      "outputs": [
        {
          "output_type": "execute_result",
          "data": {
            "text/plain": [
              "                v1\n",
              "count  5572.000000\n",
              "mean      0.134063\n",
              "std       0.340751\n",
              "min       0.000000\n",
              "25%       0.000000\n",
              "50%       0.000000\n",
              "75%       0.000000\n",
              "max       1.000000"
            ],
            "text/html": [
              "\n",
              "  <div id=\"df-54af40cc-d37e-4898-8935-f09831c3c37b\">\n",
              "    <div class=\"colab-df-container\">\n",
              "      <div>\n",
              "<style scoped>\n",
              "    .dataframe tbody tr th:only-of-type {\n",
              "        vertical-align: middle;\n",
              "    }\n",
              "\n",
              "    .dataframe tbody tr th {\n",
              "        vertical-align: top;\n",
              "    }\n",
              "\n",
              "    .dataframe thead th {\n",
              "        text-align: right;\n",
              "    }\n",
              "</style>\n",
              "<table border=\"1\" class=\"dataframe\">\n",
              "  <thead>\n",
              "    <tr style=\"text-align: right;\">\n",
              "      <th></th>\n",
              "      <th>v1</th>\n",
              "    </tr>\n",
              "  </thead>\n",
              "  <tbody>\n",
              "    <tr>\n",
              "      <th>count</th>\n",
              "      <td>5572.000000</td>\n",
              "    </tr>\n",
              "    <tr>\n",
              "      <th>mean</th>\n",
              "      <td>0.134063</td>\n",
              "    </tr>\n",
              "    <tr>\n",
              "      <th>std</th>\n",
              "      <td>0.340751</td>\n",
              "    </tr>\n",
              "    <tr>\n",
              "      <th>min</th>\n",
              "      <td>0.000000</td>\n",
              "    </tr>\n",
              "    <tr>\n",
              "      <th>25%</th>\n",
              "      <td>0.000000</td>\n",
              "    </tr>\n",
              "    <tr>\n",
              "      <th>50%</th>\n",
              "      <td>0.000000</td>\n",
              "    </tr>\n",
              "    <tr>\n",
              "      <th>75%</th>\n",
              "      <td>0.000000</td>\n",
              "    </tr>\n",
              "    <tr>\n",
              "      <th>max</th>\n",
              "      <td>1.000000</td>\n",
              "    </tr>\n",
              "  </tbody>\n",
              "</table>\n",
              "</div>\n",
              "      <button class=\"colab-df-convert\" onclick=\"convertToInteractive('df-54af40cc-d37e-4898-8935-f09831c3c37b')\"\n",
              "              title=\"Convert this dataframe to an interactive table.\"\n",
              "              style=\"display:none;\">\n",
              "        \n",
              "  <svg xmlns=\"http://www.w3.org/2000/svg\" height=\"24px\"viewBox=\"0 0 24 24\"\n",
              "       width=\"24px\">\n",
              "    <path d=\"M0 0h24v24H0V0z\" fill=\"none\"/>\n",
              "    <path d=\"M18.56 5.44l.94 2.06.94-2.06 2.06-.94-2.06-.94-.94-2.06-.94 2.06-2.06.94zm-11 1L8.5 8.5l.94-2.06 2.06-.94-2.06-.94L8.5 2.5l-.94 2.06-2.06.94zm10 10l.94 2.06.94-2.06 2.06-.94-2.06-.94-.94-2.06-.94 2.06-2.06.94z\"/><path d=\"M17.41 7.96l-1.37-1.37c-.4-.4-.92-.59-1.43-.59-.52 0-1.04.2-1.43.59L10.3 9.45l-7.72 7.72c-.78.78-.78 2.05 0 2.83L4 21.41c.39.39.9.59 1.41.59.51 0 1.02-.2 1.41-.59l7.78-7.78 2.81-2.81c.8-.78.8-2.07 0-2.86zM5.41 20L4 18.59l7.72-7.72 1.47 1.35L5.41 20z\"/>\n",
              "  </svg>\n",
              "      </button>\n",
              "      \n",
              "  <style>\n",
              "    .colab-df-container {\n",
              "      display:flex;\n",
              "      flex-wrap:wrap;\n",
              "      gap: 12px;\n",
              "    }\n",
              "\n",
              "    .colab-df-convert {\n",
              "      background-color: #E8F0FE;\n",
              "      border: none;\n",
              "      border-radius: 50%;\n",
              "      cursor: pointer;\n",
              "      display: none;\n",
              "      fill: #1967D2;\n",
              "      height: 32px;\n",
              "      padding: 0 0 0 0;\n",
              "      width: 32px;\n",
              "    }\n",
              "\n",
              "    .colab-df-convert:hover {\n",
              "      background-color: #E2EBFA;\n",
              "      box-shadow: 0px 1px 2px rgba(60, 64, 67, 0.3), 0px 1px 3px 1px rgba(60, 64, 67, 0.15);\n",
              "      fill: #174EA6;\n",
              "    }\n",
              "\n",
              "    [theme=dark] .colab-df-convert {\n",
              "      background-color: #3B4455;\n",
              "      fill: #D2E3FC;\n",
              "    }\n",
              "\n",
              "    [theme=dark] .colab-df-convert:hover {\n",
              "      background-color: #434B5C;\n",
              "      box-shadow: 0px 1px 3px 1px rgba(0, 0, 0, 0.15);\n",
              "      filter: drop-shadow(0px 1px 2px rgba(0, 0, 0, 0.3));\n",
              "      fill: #FFFFFF;\n",
              "    }\n",
              "  </style>\n",
              "\n",
              "      <script>\n",
              "        const buttonEl =\n",
              "          document.querySelector('#df-54af40cc-d37e-4898-8935-f09831c3c37b button.colab-df-convert');\n",
              "        buttonEl.style.display =\n",
              "          google.colab.kernel.accessAllowed ? 'block' : 'none';\n",
              "\n",
              "        async function convertToInteractive(key) {\n",
              "          const element = document.querySelector('#df-54af40cc-d37e-4898-8935-f09831c3c37b');\n",
              "          const dataTable =\n",
              "            await google.colab.kernel.invokeFunction('convertToInteractive',\n",
              "                                                     [key], {});\n",
              "          if (!dataTable) return;\n",
              "\n",
              "          const docLinkHtml = 'Like what you see? Visit the ' +\n",
              "            '<a target=\"_blank\" href=https://colab.research.google.com/notebooks/data_table.ipynb>data table notebook</a>'\n",
              "            + ' to learn more about interactive tables.';\n",
              "          element.innerHTML = '';\n",
              "          dataTable['output_type'] = 'display_data';\n",
              "          await google.colab.output.renderOutput(dataTable, element);\n",
              "          const docLink = document.createElement('div');\n",
              "          docLink.innerHTML = docLinkHtml;\n",
              "          element.appendChild(docLink);\n",
              "        }\n",
              "      </script>\n",
              "    </div>\n",
              "  </div>\n",
              "  "
            ]
          },
          "metadata": {},
          "execution_count": 6
        }
      ]
    },
    {
      "cell_type": "code",
      "source": [
        "print(df.isnull().sum())"
      ],
      "metadata": {
        "colab": {
          "base_uri": "https://localhost:8080/"
        },
        "id": "QOLyNtotupo6",
        "outputId": "357630ab-d033-4d32-bdd3-0b4668c4d302"
      },
      "execution_count": 7,
      "outputs": [
        {
          "output_type": "stream",
          "name": "stdout",
          "text": [
            "v1               0\n",
            "v2               0\n",
            "Unnamed: 2    5522\n",
            "Unnamed: 3    5560\n",
            "Unnamed: 4    5566\n",
            "dtype: int64\n"
          ]
        }
      ]
    },
    {
      "cell_type": "code",
      "source": [
        "df.v2 = df.v2.fillna(\"unknown\")\n",
        "df.v1 = df.v1.fillna(\"unknown\")\n",
        "print(df.isnull().sum())"
      ],
      "metadata": {
        "colab": {
          "base_uri": "https://localhost:8080/"
        },
        "id": "47Ygz9U0u3uC",
        "outputId": "44d69ead-1d0a-4623-b3c1-16312641b1be"
      },
      "execution_count": 8,
      "outputs": [
        {
          "output_type": "stream",
          "name": "stdout",
          "text": [
            "v1               0\n",
            "v2               0\n",
            "Unnamed: 2    5522\n",
            "Unnamed: 3    5560\n",
            "Unnamed: 4    5566\n",
            "dtype: int64\n"
          ]
        }
      ]
    },
    {
      "cell_type": "code",
      "source": [
        "print(df.shape)\n",
        "print(\"\\n\")\n",
        "print(df.dtypes)"
      ],
      "metadata": {
        "colab": {
          "base_uri": "https://localhost:8080/"
        },
        "id": "4OKWKx7nwaL8",
        "outputId": "62fcd3e5-e40c-4f34-9281-7ea6dc66cb36"
      },
      "execution_count": 9,
      "outputs": [
        {
          "output_type": "stream",
          "name": "stdout",
          "text": [
            "(5572, 5)\n",
            "\n",
            "\n",
            "v1             int64\n",
            "v2            object\n",
            "Unnamed: 2    object\n",
            "Unnamed: 3    object\n",
            "Unnamed: 4    object\n",
            "dtype: object\n"
          ]
        }
      ]
    },
    {
      "cell_type": "code",
      "source": [
        "df.info()\n",
        "print('_'*40)\n",
        "# df2.info()"
      ],
      "metadata": {
        "colab": {
          "base_uri": "https://localhost:8080/"
        },
        "id": "cuLRW_ayxHbf",
        "outputId": "cfdeb4b0-48e1-47d7-cad2-5e16767a9d7c"
      },
      "execution_count": 49,
      "outputs": [
        {
          "output_type": "stream",
          "name": "stdout",
          "text": [
            "<class 'pandas.core.frame.DataFrame'>\n",
            "RangeIndex: 5572 entries, 0 to 5571\n",
            "Data columns (total 5 columns):\n",
            " #   Column      Non-Null Count  Dtype \n",
            "---  ------      --------------  ----- \n",
            " 0   v1          5572 non-null   object\n",
            " 1   v2          5572 non-null   object\n",
            " 2   Unnamed: 2  50 non-null     object\n",
            " 3   Unnamed: 3  12 non-null     object\n",
            " 4   Unnamed: 4  6 non-null      object\n",
            "dtypes: object(5)\n",
            "memory usage: 217.8+ KB\n",
            "________________________________________\n"
          ]
        }
      ]
    },
    {
      "cell_type": "code",
      "source": [
        "X = df['v2']\n",
        "y = df['v1']"
      ],
      "metadata": {
        "id": "_1dmTHovSpDd"
      },
      "execution_count": 11,
      "outputs": []
    },
    {
      "cell_type": "code",
      "source": [
        "import re\n",
        "df.dropna(subset=['v2'])\n",
        "X = df['v2']\n",
        "y = df['v1']\n"
      ],
      "metadata": {
        "id": "3KEp91OOSyWd"
      },
      "execution_count": 12,
      "outputs": []
    },
    {
      "cell_type": "code",
      "source": [
        "X = X.apply(lambda text: re.sub(r'\\b\\d+\\b', '', text))"
      ],
      "metadata": {
        "id": "9_Vqt2xSS6T0"
      },
      "execution_count": 13,
      "outputs": []
    },
    {
      "cell_type": "code",
      "source": [
        "X = X.apply(lambda text: re.sub(r'\\s+', ' ', text.strip()))"
      ],
      "metadata": {
        "id": "7pEKoXR8S8Rt"
      },
      "execution_count": 14,
      "outputs": []
    },
    {
      "cell_type": "code",
      "source": [
        "X = X.str.lower()"
      ],
      "metadata": {
        "id": "FKg5lbpIS_U-"
      },
      "execution_count": 15,
      "outputs": []
    },
    {
      "cell_type": "code",
      "source": [
        "X= df['v2'].to_numpy()\n",
        "y = df['v1'].to_numpy()\n",
        "y = y.astype('int')\n"
      ],
      "metadata": {
        "id": "nLKr0__UMqQu"
      },
      "execution_count": 16,
      "outputs": []
    },
    {
      "cell_type": "code",
      "source": [
        "print(\"X\")\n",
        "print(X)\n",
        "print(\"y\")\n",
        "print(y)"
      ],
      "metadata": {
        "colab": {
          "base_uri": "https://localhost:8080/"
        },
        "id": "1qvedgQNNRp9",
        "outputId": "b74a93f0-b3a7-4ba5-aa2c-c02d615a9e43"
      },
      "execution_count": 17,
      "outputs": [
        {
          "output_type": "stream",
          "name": "stdout",
          "text": [
            "X\n",
            "['Go until jurong point, crazy.. Available only in bugis n great world la e buffet... Cine there got amore wat...'\n",
            " 'Ok lar... Joking wif u oni...'\n",
            " \"Free entry in 2 a wkly comp to win FA Cup final tkts 21st May 2005. Text FA to 87121 to receive entry question(std txt rate)T&C's apply 08452810075over18's\"\n",
            " ... 'Pity, * was in mood for that. So...any other suggestions?'\n",
            " \"The guy did some bitching but I acted like i'd be interested in buying something else next week and he gave it to us for free\"\n",
            " 'Rofl. Its true to its name']\n",
            "y\n",
            "[0 0 1 ... 0 0 0]\n"
          ]
        }
      ]
    },
    {
      "cell_type": "code",
      "source": [
        "from sklearn.feature_extraction.text import CountVectorizer\n",
        "\n",
        "vector = CountVectorizer(stop_words='english')\n",
        "# vec = CountVectorizer()"
      ],
      "metadata": {
        "id": "_PDB7FkZNoeA"
      },
      "execution_count": 18,
      "outputs": []
    },
    {
      "cell_type": "code",
      "source": [
        "vec.fit(X)\n",
        "vec.vocabulary_\n"
      ],
      "metadata": {
        "colab": {
          "base_uri": "https://localhost:8080/",
          "height": 183
        },
        "id": "p1vmQv3sOGKw",
        "outputId": "920e6cb1-a439-4d4a-a314-b18532ba624b"
      },
      "execution_count": 19,
      "outputs": [
        {
          "output_type": "error",
          "ename": "NameError",
          "evalue": "ignored",
          "traceback": [
            "\u001b[0;31m---------------------------------------------------------------------------\u001b[0m",
            "\u001b[0;31mNameError\u001b[0m                                 Traceback (most recent call last)",
            "\u001b[0;32m<ipython-input-19-b36b87d7c87a>\u001b[0m in \u001b[0;36m<cell line: 1>\u001b[0;34m()\u001b[0m\n\u001b[0;32m----> 1\u001b[0;31m \u001b[0mvec\u001b[0m\u001b[0;34m.\u001b[0m\u001b[0mfit\u001b[0m\u001b[0;34m(\u001b[0m\u001b[0mX\u001b[0m\u001b[0;34m)\u001b[0m\u001b[0;34m\u001b[0m\u001b[0;34m\u001b[0m\u001b[0m\n\u001b[0m\u001b[1;32m      2\u001b[0m \u001b[0mvec\u001b[0m\u001b[0;34m.\u001b[0m\u001b[0mvocabulary_\u001b[0m\u001b[0;34m\u001b[0m\u001b[0;34m\u001b[0m\u001b[0m\n",
            "\u001b[0;31mNameError\u001b[0m: name 'vec' is not defined"
          ]
        }
      ]
    },
    {
      "cell_type": "code",
      "source": [
        "print(X)"
      ],
      "metadata": {
        "colab": {
          "base_uri": "https://localhost:8080/"
        },
        "id": "h6CTbM9mTO7F",
        "outputId": "657df35a-ed03-48e0-d0bf-87082b835925"
      },
      "execution_count": 20,
      "outputs": [
        {
          "output_type": "stream",
          "name": "stdout",
          "text": [
            "['Go until jurong point, crazy.. Available only in bugis n great world la e buffet... Cine there got amore wat...'\n",
            " 'Ok lar... Joking wif u oni...'\n",
            " \"Free entry in 2 a wkly comp to win FA Cup final tkts 21st May 2005. Text FA to 87121 to receive entry question(std txt rate)T&C's apply 08452810075over18's\"\n",
            " ... 'Pity, * was in mood for that. So...any other suggestions?'\n",
            " \"The guy did some bitching but I acted like i'd be interested in buying something else next week and he gave it to us for free\"\n",
            " 'Rofl. Its true to its name']\n"
          ]
        }
      ]
    },
    {
      "cell_type": "code",
      "source": [
        "from sklearn.preprocessing import LabelEncoder\n",
        "X = df['v2'].to_numpy()\n",
        "Y = df['v1'].to_numpy()\n",
        "\n",
        "\n",
        "label_encoder = LabelEncoder()\n",
        "y = label_encoder.fit_transform(Y)"
      ],
      "metadata": {
        "id": "YHHuupmdTXCT"
      },
      "execution_count": 21,
      "outputs": []
    },
    {
      "cell_type": "code",
      "source": [
        "from sklearn.model_selection import train_test_split\n",
        "\n",
        "X_train, X_test, y_train, y_test = train_test_split(X, y, test_size=0.2, random_state=42)"
      ],
      "metadata": {
        "id": "pcnNZZ0jTgkc"
      },
      "execution_count": 22,
      "outputs": []
    },
    {
      "cell_type": "code",
      "source": [
        "from sklearn.feature_extraction.text import CountVectorizer\n",
        "\n",
        "vector = CountVectorizer()\n",
        "X_train_count = vector.fit_transform(X_train)\n",
        "X_test_count = vector.transform(X_test)\n"
      ],
      "metadata": {
        "id": "WijGU6ekTkn8"
      },
      "execution_count": 23,
      "outputs": []
    },
    {
      "cell_type": "code",
      "source": [
        "print(len(vector.vocabulary_))\n",
        "\n",
        "print(X_train_count.shape)\n",
        "print(X_test_count.shape)"
      ],
      "metadata": {
        "colab": {
          "base_uri": "https://localhost:8080/"
        },
        "id": "Q8fJGqeIToWD",
        "outputId": "093a196c-5928-44b4-9cce-ffb5f3f1e4ea"
      },
      "execution_count": 24,
      "outputs": [
        {
          "output_type": "stream",
          "name": "stdout",
          "text": [
            "7735\n",
            "(4457, 7735)\n",
            "(1115, 7735)\n"
          ]
        }
      ]
    },
    {
      "cell_type": "code",
      "source": [
        "vec = CountVectorizer(stop_words='english')\n",
        "vec.fit(X)\n",
        "vec.vocabulary_"
      ],
      "metadata": {
        "colab": {
          "base_uri": "https://localhost:8080/"
        },
        "id": "zIhgLNIVOJUd",
        "outputId": "dcfd8547-84f2-40ee-df9c-ee9f8a115051"
      },
      "execution_count": 25,
      "outputs": [
        {
          "output_type": "execute_result",
          "data": {
            "text/plain": [
              "{'jurong': 4224,\n",
              " 'point': 5741,\n",
              " 'crazy': 2271,\n",
              " 'available': 1271,\n",
              " 'bugis': 1703,\n",
              " 'great': 3534,\n",
              " 'world': 8227,\n",
              " 'la': 4349,\n",
              " 'buffet': 1701,\n",
              " 'cine': 1994,\n",
              " 'got': 3494,\n",
              " 'amore': 1051,\n",
              " 'wat': 8026,\n",
              " 'ok': 5343,\n",
              " 'lar': 4385,\n",
              " 'joking': 4192,\n",
              " 'wif': 8134,\n",
              " 'oni': 5369,\n",
              " 'free': 3265,\n",
              " 'entry': 2875,\n",
              " 'wkly': 8185,\n",
              " 'comp': 2110,\n",
              " 'win': 8146,\n",
              " 'fa': 3005,\n",
              " 'cup': 2329,\n",
              " 'final': 3121,\n",
              " 'tkts': 7519,\n",
              " '21st': 411,\n",
              " '2005': 402,\n",
              " 'text': 7388,\n",
              " '87121': 784,\n",
              " 'receive': 6115,\n",
              " 'question': 6010,\n",
              " 'std': 7028,\n",
              " 'txt': 7701,\n",
              " 'rate': 6062,\n",
              " 'apply': 1128,\n",
              " '08452810075over18': 77,\n",
              " 'dun': 2738,\n",
              " 'say': 6450,\n",
              " 'early': 2757,\n",
              " 'hor': 3815,\n",
              " 'nah': 5092,\n",
              " 'don': 2651,\n",
              " 'think': 7443,\n",
              " 'goes': 3458,\n",
              " 'usf': 7837,\n",
              " 'lives': 4535,\n",
              " 'freemsg': 3272,\n",
              " 'hey': 3732,\n",
              " 'darling': 2386,\n",
              " 'week': 8071,\n",
              " 'word': 8218,\n",
              " 'like': 4485,\n",
              " 'fun': 3323,\n",
              " 'tb': 7323,\n",
              " 'xxx': 8292,\n",
              " 'chgs': 1948,\n",
              " 'send': 6536,\n",
              " '50': 607,\n",
              " 'rcv': 6074,\n",
              " 'brother': 1674,\n",
              " 'speak': 6910,\n",
              " 'treat': 7634,\n",
              " 'aids': 985,\n",
              " 'patent': 5546,\n",
              " 'request': 6224,\n",
              " 'melle': 4833,\n",
              " 'oru': 5426,\n",
              " 'minnaminunginte': 4898,\n",
              " 'nurungu': 5282,\n",
              " 'vettam': 7892,\n",
              " 'set': 6562,\n",
              " 'callertune': 1772,\n",
              " 'callers': 1771,\n",
              " 'press': 5862,\n",
              " 'copy': 2211,\n",
              " 'friends': 3288,\n",
              " 'winner': 8157,\n",
              " 'valued': 7862,\n",
              " 'network': 5169,\n",
              " 'customer': 2342,\n",
              " 'selected': 6522,\n",
              " 'receivea': 6116,\n",
              " '900': 816,\n",
              " 'prize': 5894,\n",
              " 'reward': 6279,\n",
              " 'claim': 2000,\n",
              " '09061701461': 224,\n",
              " 'code': 2065,\n",
              " 'kl341': 4312,\n",
              " 'valid': 7858,\n",
              " '12': 322,\n",
              " 'hours': 3835,\n",
              " 'mobile': 4951,\n",
              " '11': 312,\n",
              " 'months': 4991,\n",
              " 'entitled': 2872,\n",
              " 'update': 7801,\n",
              " 'latest': 4398,\n",
              " 'colour': 2086,\n",
              " 'mobiles': 4952,\n",
              " 'camera': 1784,\n",
              " '08002986030': 61,\n",
              " 'gonna': 3474,\n",
              " 'home': 3789,\n",
              " 'soon': 6864,\n",
              " 'want': 8005,\n",
              " 'talk': 7290,\n",
              " 'stuff': 7117,\n",
              " 'anymore': 1099,\n",
              " 'tonight': 7566,\n",
              " 've': 7877,\n",
              " 'cried': 2288,\n",
              " 'today': 7538,\n",
              " 'chances': 1889,\n",
              " 'cash': 1835,\n",
              " '100': 298,\n",
              " '20': 397,\n",
              " '000': 1,\n",
              " 'pounds': 5803,\n",
              " 'csh11': 2306,\n",
              " '87575': 789,\n",
              " 'cost': 2223,\n",
              " '150p': 351,\n",
              " 'day': 2401,\n",
              " '6days': 680,\n",
              " '16': 363,\n",
              " 'tsandcs': 7669,\n",
              " 'reply': 6217,\n",
              " 'hl': 3761,\n",
              " 'info': 4002,\n",
              " 'urgent': 7818,\n",
              " 'won': 8202,\n",
              " 'membership': 4839,\n",
              " 'jackpot': 4121,\n",
              " '81010': 737,\n",
              " 'www': 8274,\n",
              " 'dbuk': 2406,\n",
              " 'net': 5163,\n",
              " 'lccltd': 4415,\n",
              " 'pobox': 5720,\n",
              " '4403ldnw1a7rw18': 559,\n",
              " 'searching': 6495,\n",
              " 'right': 6291,\n",
              " 'words': 8219,\n",
              " 'thank': 7404,\n",
              " 'breather': 1643,\n",
              " 'promise': 5926,\n",
              " 'wont': 8209,\n",
              " 'help': 3712,\n",
              " 'granted': 3523,\n",
              " 'fulfil': 3320,\n",
              " 'wonderful': 8206,\n",
              " 'blessing': 1521,\n",
              " 'times': 7498,\n",
              " 'date': 2394,\n",
              " 'sunday': 7184,\n",
              " 'xxxmobilemovieclub': 8293,\n",
              " 'use': 7831,\n",
              " 'credit': 2278,\n",
              " 'click': 2023,\n",
              " 'wap': 8010,\n",
              " 'link': 4507,\n",
              " 'message': 4857,\n",
              " 'http': 3854,\n",
              " 'com': 2089,\n",
              " 'qjkgighjjgcbl': 6002,\n",
              " 'oh': 5338,\n",
              " 'watching': 8031,\n",
              " 'eh': 2803,\n",
              " 'remember': 6184,\n",
              " 'spell': 6925,\n",
              " 'yes': 8329,\n",
              " 'did': 2532,\n",
              " 'naughty': 5124,\n",
              " 'make': 4716,\n",
              " 'wet': 8106,\n",
              " 'fine': 3128,\n",
              " 'thatåõs': 7416,\n",
              " 'way': 8043,\n",
              " 'feel': 3076,\n",
              " 'gota': 3495,\n",
              " 'england': 2854,\n",
              " 'macedonia': 4679,\n",
              " 'dont': 2654,\n",
              " 'miss': 4914,\n",
              " 'goals': 3454,\n",
              " 'team': 7335,\n",
              " 'news': 5181,\n",
              " 'ur': 7814,\n",
              " 'national': 5118,\n",
              " '87077': 783,\n",
              " 'try': 7665,\n",
              " 'wales': 7985,\n",
              " 'scotland': 6474,\n",
              " '4txt': 599,\n",
              " 'ì¼1': 8391,\n",
              " 'poboxox36504w45wq': 5732,\n",
              " 'seriously': 6555,\n",
              " 'going': 3463,\n",
              " 'ha': 3595,\n",
              " 'ì_': 8390,\n",
              " 'pay': 5558,\n",
              " 'da': 2359,\n",
              " 'stock': 7053,\n",
              " 'comin': 2100,\n",
              " 'aft': 959,\n",
              " 'finish': 3131,\n",
              " 'lunch': 4645,\n",
              " 'str': 7078,\n",
              " 'lor': 4589,\n",
              " 'ard': 1154,\n",
              " 'smth': 6812,\n",
              " 'ffffffffff': 3094,\n",
              " 'alright': 1031,\n",
              " 'meet': 4822,\n",
              " 'sooner': 6865,\n",
              " 'just': 4226,\n",
              " 'forced': 3219,\n",
              " 'eat': 2769,\n",
              " 'slice': 6764,\n",
              " 'really': 6098,\n",
              " 'hungry': 3873,\n",
              " 'tho': 7458,\n",
              " 'sucks': 7153,\n",
              " 'mark': 4752,\n",
              " 'getting': 3413,\n",
              " 'worried': 8230,\n",
              " 'knows': 4323,\n",
              " 'sick': 6685,\n",
              " 'turn': 7688,\n",
              " 'pizza': 5676,\n",
              " 'lol': 4566,\n",
              " 'convincing': 2199,\n",
              " 'catch': 1845,\n",
              " 'bus': 1723,\n",
              " 'frying': 3308,\n",
              " 'egg': 2800,\n",
              " 'tea': 7329,\n",
              " 'eating': 2772,\n",
              " 'mom': 4972,\n",
              " 'left': 4437,\n",
              " 'dinner': 2564,\n",
              " 'love': 4610,\n",
              " 'amp': 1052,\n",
              " 'packing': 5478,\n",
              " 'car': 1807,\n",
              " 'll': 4539,\n",
              " 'let': 4457,\n",
              " 'know': 4320,\n",
              " 'room': 6332,\n",
              " 'ahhh': 980,\n",
              " 'work': 8220,\n",
              " 'vaguely': 7854,\n",
              " 'does': 2626,\n",
              " 'wait': 7979,\n",
              " 'clear': 2017,\n",
              " 'sure': 7210,\n",
              " 'sarcastic': 6430,\n",
              " 'doesn': 2628,\n",
              " 'live': 4531,\n",
              " 'yeah': 8317,\n",
              " 'apologetic': 1115,\n",
              " 'fallen': 3030,\n",
              " 'actin': 901,\n",
              " 'spoilt': 6952,\n",
              " 'child': 1956,\n",
              " 'caught': 1849,\n",
              " 'till': 7495,\n",
              " 'doing': 2641,\n",
              " 'badly': 1323,\n",
              " 'cheers': 1932,\n",
              " 'tell': 7353,\n",
              " 'fear': 3068,\n",
              " 'fainting': 3022,\n",
              " 'housework': 3839,\n",
              " 'quick': 6013,\n",
              " 'cuppa': 2331,\n",
              " 'thanks': 7405,\n",
              " 'subscription': 7142,\n",
              " 'ringtone': 6300,\n",
              " 'uk': 7731,\n",
              " 'charged': 1901,\n",
              " 'month': 4988,\n",
              " 'confirm': 2154,\n",
              " 'replying': 6218,\n",
              " 'yup': 8369,\n",
              " 'look': 4577,\n",
              " 'timings': 7502,\n",
              " 'msg': 5026,\n",
              " 'xuhui': 8288,\n",
              " 'learn': 4428,\n",
              " '2nd': 461,\n",
              " 'lesson': 4455,\n",
              " '8am': 809,\n",
              " 'oops': 5382,\n",
              " 'roommate': 6334,\n",
              " 'letter': 4459,\n",
              " 'decide': 2423,\n",
              " 'hello': 3709,\n",
              " 'saturday': 6442,\n",
              " 'texting': 7396,\n",
              " 'decided': 2424,\n",
              " 'tomo': 7555,\n",
              " 'trying': 7667,\n",
              " 'invite': 4058,\n",
              " 'pls': 5708,\n",
              " 'ahead': 979,\n",
              " 'watts': 8039,\n",
              " 'wanted': 8007,\n",
              " 'weekend': 8073,\n",
              " 'abiola': 855,\n",
              " 'forget': 3225,\n",
              " 'need': 5144,\n",
              " 'crave': 2268,\n",
              " 'sweet': 7241,\n",
              " 'arabian': 1151,\n",
              " 'steed': 7035,\n",
              " 'mmmmmm': 4941,\n",
              " 'yummy': 8364,\n",
              " '07732584351': 30,\n",
              " 'rodger': 6322,\n",
              " 'burns': 1720,\n",
              " 'tried': 7643,\n",
              " 'sms': 6807,\n",
              " 'nokia': 5225,\n",
              " 'camcorder': 1782,\n",
              " '08000930705': 57,\n",
              " 'delivery': 2463,\n",
              " 'tomorrow': 7557,\n",
              " 'seeing': 6513,\n",
              " 'hope': 3807,\n",
              " 'man': 4726,\n",
              " 'endowed': 2844,\n",
              " 'lt': 4633,\n",
              " 'gt': 3563,\n",
              " 'inches': 3972,\n",
              " 'calls': 1777,\n",
              " 'messages': 4859,\n",
              " 'missed': 4916,\n",
              " 'didn': 2534,\n",
              " 'hep': 3723,\n",
              " 'immunisation': 3953,\n",
              " 'nigeria': 5194,\n",
              " 'fair': 3023,\n",
              " 'hopefully': 3810,\n",
              " 'tyler': 7714,\n",
              " 'maybe': 4798,\n",
              " 'ask': 1203,\n",
              " 'bit': 1498,\n",
              " 'stubborn': 7106,\n",
              " 'hospital': 3822,\n",
              " 'kept': 4269,\n",
              " 'telling': 7354,\n",
              " 'weak': 8048,\n",
              " 'sucker': 7151,\n",
              " 'hospitals': 3823,\n",
              " 'suckers': 7152,\n",
              " 'thinked': 7444,\n",
              " 'time': 7497,\n",
              " 'saw': 6449,\n",
              " 'class': 2009,\n",
              " 'gram': 3515,\n",
              " 'usually': 7843,\n",
              " 'runs': 6375,\n",
              " 'half': 3610,\n",
              " 'eighth': 2805,\n",
              " 'smarter': 6787,\n",
              " 'gets': 3409,\n",
              " 'second': 6499,\n",
              " 'fyi': 3338,\n",
              " 'ride': 6290,\n",
              " 'morning': 4998,\n",
              " 'crashing': 2267,\n",
              " 'place': 5678,\n",
              " 'wow': 8245,\n",
              " 'realized': 6096,\n",
              " 'embarassed': 2826,\n",
              " 'accomodations': 884,\n",
              " 'thought': 7461,\n",
              " 'liked': 4486,\n",
              " 'best': 1455,\n",
              " 'happy': 3645,\n",
              " 'cave': 1853,\n",
              " 'sorry': 6874,\n",
              " 'offered': 5324,\n",
              " 'embarassing': 2827,\n",
              " 'ac': 870,\n",
              " 'sptv': 6974,\n",
              " 'new': 5176,\n",
              " 'jersey': 4162,\n",
              " 'devils': 2513,\n",
              " 'detroit': 2507,\n",
              " 'red': 6138,\n",
              " 'wings': 8155,\n",
              " 'play': 5692,\n",
              " 'ice': 3907,\n",
              " 'hockey': 3774,\n",
              " 'correct': 2216,\n",
              " 'incorrect': 3983,\n",
              " 'end': 2840,\n",
              " 'mallika': 4725,\n",
              " 'sherawat': 6612,\n",
              " 'yesterday': 8331,\n",
              " 'url': 7824,\n",
              " 'congrats': 2160,\n",
              " 'year': 8318,\n",
              " 'special': 6912,\n",
              " 'cinema': 1995,\n",
              " 'pass': 5535,\n",
              " '09061209465': 219,\n",
              " 'suprman': 7208,\n",
              " 'matrix3': 4785,\n",
              " 'starwars3': 7016,\n",
              " 'bx420': 1743,\n",
              " 'ip4': 4067,\n",
              " '5we': 641,\n",
              " '150pm': 353,\n",
              " 'later': 4397,\n",
              " 'meeting': 4824,\n",
              " 'reached': 6080,\n",
              " 'gauti': 3372,\n",
              " 'sehwag': 6519,\n",
              " 'odi': 5318,\n",
              " 'series': 6554,\n",
              " 'pick': 5648,\n",
              " 'burger': 1715,\n",
              " 'pain': 5485,\n",
              " 'killing': 4294,\n",
              " 'good': 3476,\n",
              " 'joke': 4188,\n",
              " 'girls': 3431,\n",
              " 'situation': 6731,\n",
              " 'seekers': 6514,\n",
              " 'checking': 1926,\n",
              " 'iq': 4073,\n",
              " 'roommates': 6335,\n",
              " 'took': 7570,\n",
              " 'forever': 3222,\n",
              " 'come': 2095,\n",
              " 'double': 2668,\n",
              " 'check': 1922,\n",
              " 'hair': 3605,\n",
              " 'dresser': 2697,\n",
              " 'said': 6401,\n",
              " 'wun': 8273,\n",
              " 'cut': 2346,\n",
              " 'short': 6647,\n",
              " 'nice': 5188,\n",
              " 'pleased': 5701,\n",
              " 'advise': 942,\n",
              " 'following': 3201,\n",
              " 'recent': 6119,\n",
              " 'review': 6277,\n",
              " 'mob': 4949,\n",
              " 'awarded': 1288,\n",
              " '1500': 350,\n",
              " 'bonus': 1562,\n",
              " '09066364589': 267,\n",
              " 'song': 6859,\n",
              " 'dedicated': 2434,\n",
              " 'dedicate': 2433,\n",
              " 'valuable': 7860,\n",
              " 'frnds': 3296,\n",
              " 'rply': 6351,\n",
              " 'complimentary': 2129,\n",
              " 'trip': 7644,\n",
              " 'eurodisinc': 2917,\n",
              " 'trav': 7626,\n",
              " 'aco': 898,\n",
              " 'entry41': 2876,\n",
              " '1000': 299,\n",
              " 'dis': 2576,\n",
              " '18': 368,\n",
              " 'morefrmmob': 4995,\n",
              " 'shracomorsglsuplt': 6670,\n",
              " '10': 297,\n",
              " 'ls1': 4629,\n",
              " '3aj': 518,\n",
              " 'hear': 3688,\n",
              " 'divorce': 2605,\n",
              " 'barbie': 1354,\n",
              " 'comes': 2097,\n",
              " 'ken': 4267,\n",
              " 'plane': 5684,\n",
              " 'wah': 7972,\n",
              " 'lucky': 4639,\n",
              " 'save': 6445,\n",
              " 'money': 4979,\n",
              " 'hee': 3701,\n",
              " 'finished': 3133,\n",
              " 'hi': 3737,\n",
              " 'babe': 1310,\n",
              " 'im': 3941,\n",
              " 'wanna': 8003,\n",
              " 'xx': 8289,\n",
              " 'performed': 5594,\n",
              " 'waiting': 7982,\n",
              " 'machan': 4681,\n",
              " 'thats': 7415,\n",
              " 'cool': 2204,\n",
              " 'gentleman': 3397,\n",
              " 'dignity': 2554,\n",
              " 'respect': 6244,\n",
              " 'peoples': 5587,\n",
              " 'shy': 6680,\n",
              " 'pa': 5474,\n",
              " 'operate': 5389,\n",
              " 'looking': 4581,\n",
              " 'job': 4177,\n",
              " 'ta': 7268,\n",
              " 'earn': 2758,\n",
              " 'ah': 977,\n",
              " 'stop': 7063,\n",
              " 'urgnt': 7821,\n",
              " 'real': 6089,\n",
              " 'yo': 8340,\n",
              " 'tickets': 7485,\n",
              " 'jacket': 4120,\n",
              " 'used': 7832,\n",
              " 'multis': 5052,\n",
              " 'started': 7011,\n",
              " 'requests': 6225,\n",
              " 'came': 1783,\n",
              " 'bed': 1418,\n",
              " 'coins': 2071,\n",
              " 'factory': 3012,\n",
              " 'gotta': 3500,\n",
              " 'nitros': 5212,\n",
              " 'ela': 2809,\n",
              " 'kano': 4249,\n",
              " 'il': 3936,\n",
              " 'download': 2675,\n",
              " 'wen': 8090,\n",
              " 'stand': 6999,\n",
              " 'close': 2030,\n",
              " 'night': 5196,\n",
              " 'spent': 6930,\n",
              " 'late': 4394,\n",
              " 'afternoon': 961,\n",
              " 'casualty': 1843,\n",
              " 'means': 4811,\n",
              " 'haven': 3667,\n",
              " 'stuff42moro': 7118,\n",
              " 'includes': 3976,\n",
              " 'sheets': 6607,\n",
              " 'smile': 6795,\n",
              " 'pleasure': 5703,\n",
              " 'trouble': 7651,\n",
              " 'pours': 5805,\n",
              " 'rain': 6036,\n",
              " 'sum1': 7175,\n",
              " 'hurts': 3883,\n",
              " 'becoz': 1416,\n",
              " 'loves': 4618,\n",
              " 'smiling': 6799,\n",
              " 'service': 6558,\n",
              " 'representative': 6222,\n",
              " '0800': 53,\n",
              " '169': 366,\n",
              " '6031': 647,\n",
              " '10am': 307,\n",
              " '9pm': 835,\n",
              " 'guaranteed': 3566,\n",
              " '5000': 609,\n",
              " 'havent': 3668,\n",
              " 'planning': 5688,\n",
              " 'buy': 1734,\n",
              " 'lido': 4470,\n",
              " '530': 627,\n",
              " 'collected': 2080,\n",
              " 'simply': 6706,\n",
              " 'password': 5542,\n",
              " 'mix': 4932,\n",
              " '85069': 770,\n",
              " 'verify': 7888,\n",
              " 'usher': 7838,\n",
              " 'britney': 1664,\n",
              " 'fml': 3192,\n",
              " 'telugu': 7359,\n",
              " 'movie': 5015,\n",
              " 'abt': 865,\n",
              " 'loads': 4545,\n",
              " 'loans': 4547,\n",
              " 'wk': 8181,\n",
              " 'hols': 3787,\n",
              " 'run': 6373,\n",
              " 'forgot': 3230,\n",
              " 'hairdressers': 3607,\n",
              " 'appointment': 1131,\n",
              " 'shower': 6663,\n",
              " 'cause': 1850,\n",
              " 'prob': 5899,\n",
              " 'ham': 3616,\n",
              " 'okay': 5344,\n",
              " 'price': 5875,\n",
              " 'long': 4573,\n",
              " 'legal': 4440,\n",
              " 'ave': 1275,\n",
              " 'ams': 1056,\n",
              " 'gone': 3472,\n",
              " '4the': 597,\n",
              " 'driving': 2706,\n",
              " 'test': 7382,\n",
              " 'mean': 4807,\n",
              " 'guess': 3572,\n",
              " 'gave': 3373,\n",
              " 'boston': 1583,\n",
              " 'men': 4843,\n",
              " 'changed': 1891,\n",
              " 'search': 6494,\n",
              " 'location': 4550,\n",
              " 'nyc': 5293,\n",
              " 'cuz': 2353,\n",
              " 'signin': 6694,\n",
              " 'page': 5481,\n",
              " 'says': 6453,\n",
              " 'umma': 7738,\n",
              " 'life': 4473,\n",
              " 'vava': 7874,\n",
              " 'lot': 4597,\n",
              " 'dear': 2413,\n",
              " 'wishes': 8168,\n",
              " 'birthday': 1496,\n",
              " 'making': 4720,\n",
              " 'truly': 7660,\n",
              " 'memorable': 4840,\n",
              " 'aight': 987,\n",
              " 'hit': 3754,\n",
              " 'ip': 4066,\n",
              " 'address': 919,\n",
              " 'considering': 2172,\n",
              " 'computer': 2135,\n",
              " 'isn': 4090,\n",
              " 'minecraft': 4892,\n",
              " 'server': 6557,\n",
              " 'grumpy': 3560,\n",
              " 'old': 5356,\n",
              " 'people': 5586,\n",
              " 'better': 1461,\n",
              " 'lying': 4659,\n",
              " 'jokes': 4190,\n",
              " 'worry': 8232,\n",
              " 'busy': 1729,\n",
              " 'plural': 5712,\n",
              " 'noun': 5261,\n",
              " 'research': 6230,\n",
              " 'cos': 2221,\n",
              " 'things': 7442,\n",
              " 'scared': 6459,\n",
              " 'mah': 4703,\n",
              " 'loud': 4605,\n",
              " 'gent': 3395,\n",
              " 'contact': 2177,\n",
              " 'weekends': 8074,\n",
              " 'draw': 2689,\n",
              " 'shows': 6669,\n",
              " '09064012160': 243,\n",
              " 'k52': 4232,\n",
              " '12hrs': 333,\n",
              " '150ppm': 355,\n",
              " 'wa': 7967,\n",
              " 'openin': 5386,\n",
              " 'sentence': 6547,\n",
              " 'formal': 3234,\n",
              " 'juz': 4231,\n",
              " 'tt': 7675,\n",
              " 'eatin': 2771,\n",
              " 'puttin': 5991,\n",
              " 'weight': 8079,\n",
              " 'haha': 3601,\n",
              " 'anythin': 1103,\n",
              " 'happened': 3637,\n",
              " 'entered': 2865,\n",
              " 'cabin': 1751,\n",
              " 'boss': 1582,\n",
              " 'felt': 3085,\n",
              " 'askd': 1204,\n",
              " 'invited': 4059,\n",
              " 'apartment': 1109,\n",
              " 'went': 8093,\n",
              " 'specially': 6916,\n",
              " 'holiday': 3784,\n",
              " 'flights': 3168,\n",
              " 'operator': 5390,\n",
              " '0871277810910p': 129,\n",
              " 'min': 4886,\n",
              " 'goodo': 3485,\n",
              " 'friday': 3283,\n",
              " 'potato': 5797,\n",
              " 'ratio': 6064,\n",
              " 'tortilla': 7586,\n",
              " 'needed': 5146,\n",
              " 'hmm': 3766,\n",
              " 'uncle': 7746,\n",
              " 'informed': 4005,\n",
              " 'paying': 5563,\n",
              " 'school': 6465,\n",
              " 'directly': 2570,\n",
              " 'food': 3208,\n",
              " 'private': 5891,\n",
              " '2004': 401,\n",
              " 'account': 887,\n",
              " 'statement': 7019,\n",
              " '07742676969': 32,\n",
              " '786': 709,\n",
              " 'unredeemed': 7789,\n",
              " 'points': 5742,\n",
              " '08719180248': 175,\n",
              " 'identifier': 3919,\n",
              " '45239': 570,\n",
              " 'expires': 2983,\n",
              " '2000': 399,\n",
              " 'caller': 1770,\n",
              " '03': 15,\n",
              " 'landline': 4372,\n",
              " '09064019788': 249,\n",
              " 'box42wr29c': 1607,\n",
              " 'apples': 1126,\n",
              " 'pairs': 5489,\n",
              " 'malarky': 4722,\n",
              " 'todays': 7539,\n",
              " 'voda': 7936,\n",
              " 'numbers': 5279,\n",
              " 'ending': 2842,\n",
              " '7548': 701,\n",
              " '350': 506,\n",
              " 'award': 1287,\n",
              " 'match': 4773,\n",
              " '08712300220': 111,\n",
              " 'quoting': 6024,\n",
              " '4041': 543,\n",
              " 'standard': 7000,\n",
              " 'rates': 6063,\n",
              " 'app': 1119,\n",
              " 'sao': 6424,\n",
              " 'mu': 5042,\n",
              " 'ìï': 8393,\n",
              " 'predict': 5837,\n",
              " 'buying': 1737,\n",
              " 'yetunde': 8333,\n",
              " 'hasn': 3657,\n",
              " 'sent': 6546,\n",
              " 'bother': 1585,\n",
              " 'sending': 6538,\n",
              " 'involve': 4063,\n",
              " 'shouldn': 6657,\n",
              " 'imposed': 3960,\n",
              " 'apologise': 1116,\n",
              " 'girl': 3428,\n",
              " 'del': 2453,\n",
              " 'bak': 1331,\n",
              " 'sum': 7174,\n",
              " 'lucyxx': 4642,\n",
              " 'tmorrow': 7525,\n",
              " 'accomodate': 883,\n",
              " 'answer': 1087,\n",
              " 'sunshine': 7191,\n",
              " 'quiz': 6020,\n",
              " 'sony': 6861,\n",
              " 'dvd': 2747,\n",
              " 'player': 5694,\n",
              " 'country': 2240,\n",
              " 'algarve': 1015,\n",
              " 'ansr': 1086,\n",
              " '82277': 744,\n",
              " 'sp': 6897,\n",
              " 'tyrone': 7718,\n",
              " 'laid': 4364,\n",
              " 'dogging': 2635,\n",
              " 'locations': 4551,\n",
              " 'direct': 2569,\n",
              " 'join': 4185,\n",
              " 'largest': 4389,\n",
              " 'bt': 1690,\n",
              " 'txting': 7707,\n",
              " 'gravel': 3528,\n",
              " '69888': 675,\n",
              " 'nt': 5269,\n",
              " 'ec2a': 2774,\n",
              " '31p': 498,\n",
              " 'haf': 3600,\n",
              " 'msn': 5033,\n",
              " 'yijue': 8337,\n",
              " 'hotmail': 3830,\n",
              " 'rooms': 6336,\n",
              " 'befor': 1427,\n",
              " 'activities': 907,\n",
              " 'msgs': 5032,\n",
              " 'chat': 1912,\n",
              " 'svc': 7226,\n",
              " 'hardcore': 3647,\n",
              " 'services': 6559,\n",
              " '69988': 679,\n",
              " 'age': 966,\n",
              " 'yr': 8359,\n",
              " 'lazy': 4414,\n",
              " 'type': 7715,\n",
              " 'lect': 4434,\n",
              " 'pouch': 5800,\n",
              " 'sir': 6720,\n",
              " 'mail': 4708,\n",
              " 'swt': 7255,\n",
              " 'nver': 5287,\n",
              " 'tired': 7505,\n",
              " 'little': 4530,\n",
              " 'lovable': 4609,\n",
              " 'persons': 5611,\n",
              " 'coz': 2253,\n",
              " 'somtimes': 6856,\n",
              " 'occupy': 5311,\n",
              " 'biggest': 1479,\n",
              " 'hearts': 3694,\n",
              " 'gud': 3568,\n",
              " 'ni8': 5186,\n",
              " 'open': 5383,\n",
              " 'ya': 8302,\n",
              " 'dot': 2667,\n",
              " 'whats': 8111,\n",
              " 'staff': 6991,\n",
              " 'taking': 7287,\n",
              " 'replied': 6215,\n",
              " 'randy': 6056,\n",
              " 'sexy': 6574,\n",
              " 'female': 3086,\n",
              " 'local': 4549,\n",
              " 'luv': 4650,\n",
              " 'netcollex': 5164,\n",
              " '08700621170150p': 81,\n",
              " 'ummma': 7740,\n",
              " 'begin': 1431,\n",
              " 'qatar': 5997,\n",
              " 'pray': 5832,\n",
              " 'hard': 3646,\n",
              " 'deleted': 2457,\n",
              " 'sindu': 6710,\n",
              " 'birla': 1492,\n",
              " 'soft': 6833,\n",
              " 'wine': 8153,\n",
              " 'flowing': 3183,\n",
              " 'nevering': 5173,\n",
              " 'thk': 7452,\n",
              " 'plaza': 5699,\n",
              " 'typical': 7717,\n",
              " 'dirt': 2573,\n",
              " 'floor': 3177,\n",
              " 'windows': 8150,\n",
              " 'shirt': 6626,\n",
              " 'mouth': 5012,\n",
              " 'dream': 2692,\n",
              " 'chores': 1983,\n",
              " 'joy': 4203,\n",
              " 'lots': 4599,\n",
              " 'tv': 7693,\n",
              " 'exist': 2968,\n",
              " 'hail': 3604,\n",
              " 'mist': 4924,\n",
              " 'aaooooright': 845,\n",
              " 'leaving': 4433,\n",
              " 'house': 3836,\n",
              " 'interview': 4046,\n",
              " 'boy': 1612,\n",
              " 'missing': 4918,\n",
              " 'annoncement': 1078,\n",
              " 'years': 8319,\n",
              " '07046744435': 24,\n",
              " 'arrange': 1180,\n",
              " '0871277810810': 128,\n",
              " 'safe': 6396,\n",
              " 'envy': 2881,\n",
              " 'parents': 5518,\n",
              " 'hand': 3619,\n",
              " 'excited': 2956,\n",
              " 'spend': 6928,\n",
              " 'bootydelious': 1575,\n",
              " '32': 499,\n",
              " 'inviting': 4060,\n",
              " 'friend': 3287,\n",
              " '434': 556,\n",
              " 'frnd': 3295,\n",
              " '62468': 655,\n",
              " 'bangbabes': 1345,\n",
              " 'order': 5411,\n",
              " 'content': 2181,\n",
              " 'goto': 3499,\n",
              " 'bangb': 1344,\n",
              " 'internet': 4045,\n",
              " 'menu': 4850,\n",
              " 'cultures': 2325,\n",
              " 'module': 4965,\n",
              " '09061701939': 226,\n",
              " 's89': 6386,\n",
              " 'avoid': 1281,\n",
              " 'missunderstding': 4922,\n",
              " 'wit': 8173,\n",
              " 'beloved': 1446,\n",
              " 'escape': 2902,\n",
              " 'fancy': 3041,\n",
              " 'bridge': 1649,\n",
              " 'needs': 5149,\n",
              " 'lager': 4363,\n",
              " 'completely': 2125,\n",
              " 'form': 3233,\n",
              " 'clark': 2006,\n",
              " 'utter': 7845,\n",
              " 'waste': 8023,\n",
              " 'axis': 1296,\n",
              " 'bank': 1347,\n",
              " 'hmmm': 3767,\n",
              " 'hop': 3806,\n",
              " 'muz': 5076,\n",
              " 'discuss': 2589,\n",
              " 'liao': 4464,\n",
              " 'coming': 2101,\n",
              " 'bloody': 1535,\n",
              " 'hell': 3707,\n",
              " 'believe': 1437,\n",
              " 'surname': 7216,\n",
              " 'mr': 5021,\n",
              " 'ill': 3938,\n",
              " 'clue': 2046,\n",
              " 'spanish': 6904,\n",
              " 'begins': 1432,\n",
              " 'bath': 1378,\n",
              " 'carlos': 1824,\n",
              " 'mall': 4724,\n",
              " 'turns': 7691,\n",
              " 'staying': 7026,\n",
              " 'til': 7494,\n",
              " 'smoke': 6801,\n",
              " 'worth': 8236,\n",
              " 'doesnt': 2629,\n",
              " 'log': 4557,\n",
              " 'spoke': 6953,\n",
              " 'maneesha': 4736,\n",
              " 'satisfied': 6439,\n",
              " 'experience': 2978,\n",
              " 'toll': 7551,\n",
              " 'lifted': 4479,\n",
              " 'hopes': 3812,\n",
              " 'offer': 5323,\n",
              " 'especially': 2906,\n",
              " 'approaches': 1135,\n",
              " 'studying': 7115,\n",
              " 'anyways': 1106,\n",
              " 'gr8': 3508,\n",
              " 'trust': 7662,\n",
              " 'guys': 3588,\n",
              " 'bye': 1746,\n",
              " 'handsome': 3625,\n",
              " 'finding': 3126,\n",
              " 'working': 8224,\n",
              " 'mummy': 5056,\n",
              " 'boytoy': 1617,\n",
              " 'awesome': 1290,\n",
              " 'minute': 4903,\n",
              " 'freephone': 3273,\n",
              " '0808': 65,\n",
              " '145': 343,\n",
              " '4742': 574,\n",
              " '9am': 833,\n",
              " '11pm': 321,\n",
              " 'xmas': 8285,\n",
              " 'radio': 6029,\n",
              " 'jus': 4225,\n",
              " 'bathe': 1379,\n",
              " 'sis': 6722,\n",
              " 'using': 7839,\n",
              " 'finishes': 3134,\n",
              " 'unique': 7774,\n",
              " '30th': 494,\n",
              " 'august': 1257,\n",
              " 'areyouunique': 1160,\n",
              " 'joined': 4186,\n",
              " 'league': 4426,\n",
              " 'touch': 7595,\n",
              " 'deal': 2409,\n",
              " 'personal': 5608,\n",
              " 'finally': 3123,\n",
              " 'completed': 2124,\n",
              " 'course': 2246,\n",
              " 'suggest': 7166,\n",
              " 'stays': 7027,\n",
              " 'able': 857,\n",
              " 'ors': 5424,\n",
              " 'stool': 7062,\n",
              " 'settled': 6566,\n",
              " 'wishin': 8169,\n",
              " 'mrng': 5023,\n",
              " 'hav': 3665,\n",
              " 'story': 7077,\n",
              " 'hamster': 3618,\n",
              " 'dead': 2408,\n",
              " 'tmr': 7526,\n",
              " '1pm': 385,\n",
              " 'orchard': 5410,\n",
              " 'mrt': 5024,\n",
              " 'kate': 4254,\n",
              " 'evening': 2923,\n",
              " ...}"
            ]
          },
          "metadata": {},
          "execution_count": 25
        }
      ]
    },
    {
      "cell_type": "code",
      "source": [
        "from sklearn.feature_extraction.text import CountVectorizer\n",
        "print(vec.get_feature_names_out())\n",
        "print(len(vec.get_feature_names_out()))"
      ],
      "metadata": {
        "colab": {
          "base_uri": "https://localhost:8080/"
        },
        "id": "fr7wnqF_OPUy",
        "outputId": "e6899b59-6271-4309-d681-4c68928a1725"
      },
      "execution_count": 26,
      "outputs": [
        {
          "output_type": "stream",
          "name": "stdout",
          "text": [
            "['00' '000' '000pes' ... 'ûïharry' 'ûò' 'ûówell']\n",
            "8404\n"
          ]
        }
      ]
    },
    {
      "cell_type": "code",
      "source": [
        "X_transformed=vec.transform(X)\n",
        "X_transformed\n",
        "\n"
      ],
      "metadata": {
        "colab": {
          "base_uri": "https://localhost:8080/"
        },
        "id": "qy9-J4pdOT5a",
        "outputId": "3fce1ee3-e2db-4225-87ef-a489f7c2ecb5"
      },
      "execution_count": 27,
      "outputs": [
        {
          "output_type": "execute_result",
          "data": {
            "text/plain": [
              "<5572x8404 sparse matrix of type '<class 'numpy.int64'>'\n",
              "\twith 43478 stored elements in Compressed Sparse Row format>"
            ]
          },
          "metadata": {},
          "execution_count": 27
        }
      ]
    },
    {
      "cell_type": "code",
      "source": [
        "X=X_transformed.toarray()\n",
        "X"
      ],
      "metadata": {
        "colab": {
          "base_uri": "https://localhost:8080/"
        },
        "id": "MSqd1WAtOW1H",
        "outputId": "a19e6442-5f77-466b-f642-1ccad3d23897"
      },
      "execution_count": 28,
      "outputs": [
        {
          "output_type": "execute_result",
          "data": {
            "text/plain": [
              "array([[0, 0, 0, ..., 0, 0, 0],\n",
              "       [0, 0, 0, ..., 0, 0, 0],\n",
              "       [0, 0, 0, ..., 0, 0, 0],\n",
              "       ...,\n",
              "       [0, 0, 0, ..., 0, 0, 0],\n",
              "       [0, 0, 0, ..., 0, 0, 0],\n",
              "       [0, 0, 0, ..., 0, 0, 0]])"
            ]
          },
          "metadata": {},
          "execution_count": 28
        }
      ]
    },
    {
      "cell_type": "code",
      "source": [
        "pd.DataFrame(X, columns=vec.get_feature_names_out())\n"
      ],
      "metadata": {
        "colab": {
          "base_uri": "https://localhost:8080/",
          "height": 488
        },
        "id": "oRn4Z0SSOZD2",
        "outputId": "67c8f341-3b31-4f5c-c2d2-cd2854cd520c"
      },
      "execution_count": 29,
      "outputs": [
        {
          "output_type": "execute_result",
          "data": {
            "text/plain": [
              "      00  000  000pes  008704050406  0089  0121  01223585236  01223585334  \\\n",
              "0      0    0       0             0     0     0            0            0   \n",
              "1      0    0       0             0     0     0            0            0   \n",
              "2      0    0       0             0     0     0            0            0   \n",
              "3      0    0       0             0     0     0            0            0   \n",
              "4      0    0       0             0     0     0            0            0   \n",
              "...   ..  ...     ...           ...   ...   ...          ...          ...   \n",
              "5567   0    0       0             0     0     0            0            0   \n",
              "5568   0    0       0             0     0     0            0            0   \n",
              "5569   0    0       0             0     0     0            0            0   \n",
              "5570   0    0       0             0     0     0            0            0   \n",
              "5571   0    0       0             0     0     0            0            0   \n",
              "\n",
              "      0125698789  02  ...  ó_  û_  û_thanks  ûªm  ûªt  ûªve  ûï  ûïharry  ûò  \\\n",
              "0              0   0  ...   0   0         0    0    0     0   0        0   0   \n",
              "1              0   0  ...   0   0         0    0    0     0   0        0   0   \n",
              "2              0   0  ...   0   0         0    0    0     0   0        0   0   \n",
              "3              0   0  ...   0   0         0    0    0     0   0        0   0   \n",
              "4              0   0  ...   0   0         0    0    0     0   0        0   0   \n",
              "...          ...  ..  ...  ..  ..       ...  ...  ...   ...  ..      ...  ..   \n",
              "5567           0   0  ...   0   0         0    0    0     0   0        0   0   \n",
              "5568           0   0  ...   0   0         0    0    0     0   0        0   0   \n",
              "5569           0   0  ...   0   0         0    0    0     0   0        0   0   \n",
              "5570           0   0  ...   0   0         0    0    0     0   0        0   0   \n",
              "5571           0   0  ...   0   0         0    0    0     0   0        0   0   \n",
              "\n",
              "      ûówell  \n",
              "0          0  \n",
              "1          0  \n",
              "2          0  \n",
              "3          0  \n",
              "4          0  \n",
              "...      ...  \n",
              "5567       0  \n",
              "5568       0  \n",
              "5569       0  \n",
              "5570       0  \n",
              "5571       0  \n",
              "\n",
              "[5572 rows x 8404 columns]"
            ],
            "text/html": [
              "\n",
              "  <div id=\"df-063bc0aa-be8b-46e1-95c7-b8c26f0b5c67\">\n",
              "    <div class=\"colab-df-container\">\n",
              "      <div>\n",
              "<style scoped>\n",
              "    .dataframe tbody tr th:only-of-type {\n",
              "        vertical-align: middle;\n",
              "    }\n",
              "\n",
              "    .dataframe tbody tr th {\n",
              "        vertical-align: top;\n",
              "    }\n",
              "\n",
              "    .dataframe thead th {\n",
              "        text-align: right;\n",
              "    }\n",
              "</style>\n",
              "<table border=\"1\" class=\"dataframe\">\n",
              "  <thead>\n",
              "    <tr style=\"text-align: right;\">\n",
              "      <th></th>\n",
              "      <th>00</th>\n",
              "      <th>000</th>\n",
              "      <th>000pes</th>\n",
              "      <th>008704050406</th>\n",
              "      <th>0089</th>\n",
              "      <th>0121</th>\n",
              "      <th>01223585236</th>\n",
              "      <th>01223585334</th>\n",
              "      <th>0125698789</th>\n",
              "      <th>02</th>\n",
              "      <th>...</th>\n",
              "      <th>ó_</th>\n",
              "      <th>û_</th>\n",
              "      <th>û_thanks</th>\n",
              "      <th>ûªm</th>\n",
              "      <th>ûªt</th>\n",
              "      <th>ûªve</th>\n",
              "      <th>ûï</th>\n",
              "      <th>ûïharry</th>\n",
              "      <th>ûò</th>\n",
              "      <th>ûówell</th>\n",
              "    </tr>\n",
              "  </thead>\n",
              "  <tbody>\n",
              "    <tr>\n",
              "      <th>0</th>\n",
              "      <td>0</td>\n",
              "      <td>0</td>\n",
              "      <td>0</td>\n",
              "      <td>0</td>\n",
              "      <td>0</td>\n",
              "      <td>0</td>\n",
              "      <td>0</td>\n",
              "      <td>0</td>\n",
              "      <td>0</td>\n",
              "      <td>0</td>\n",
              "      <td>...</td>\n",
              "      <td>0</td>\n",
              "      <td>0</td>\n",
              "      <td>0</td>\n",
              "      <td>0</td>\n",
              "      <td>0</td>\n",
              "      <td>0</td>\n",
              "      <td>0</td>\n",
              "      <td>0</td>\n",
              "      <td>0</td>\n",
              "      <td>0</td>\n",
              "    </tr>\n",
              "    <tr>\n",
              "      <th>1</th>\n",
              "      <td>0</td>\n",
              "      <td>0</td>\n",
              "      <td>0</td>\n",
              "      <td>0</td>\n",
              "      <td>0</td>\n",
              "      <td>0</td>\n",
              "      <td>0</td>\n",
              "      <td>0</td>\n",
              "      <td>0</td>\n",
              "      <td>0</td>\n",
              "      <td>...</td>\n",
              "      <td>0</td>\n",
              "      <td>0</td>\n",
              "      <td>0</td>\n",
              "      <td>0</td>\n",
              "      <td>0</td>\n",
              "      <td>0</td>\n",
              "      <td>0</td>\n",
              "      <td>0</td>\n",
              "      <td>0</td>\n",
              "      <td>0</td>\n",
              "    </tr>\n",
              "    <tr>\n",
              "      <th>2</th>\n",
              "      <td>0</td>\n",
              "      <td>0</td>\n",
              "      <td>0</td>\n",
              "      <td>0</td>\n",
              "      <td>0</td>\n",
              "      <td>0</td>\n",
              "      <td>0</td>\n",
              "      <td>0</td>\n",
              "      <td>0</td>\n",
              "      <td>0</td>\n",
              "      <td>...</td>\n",
              "      <td>0</td>\n",
              "      <td>0</td>\n",
              "      <td>0</td>\n",
              "      <td>0</td>\n",
              "      <td>0</td>\n",
              "      <td>0</td>\n",
              "      <td>0</td>\n",
              "      <td>0</td>\n",
              "      <td>0</td>\n",
              "      <td>0</td>\n",
              "    </tr>\n",
              "    <tr>\n",
              "      <th>3</th>\n",
              "      <td>0</td>\n",
              "      <td>0</td>\n",
              "      <td>0</td>\n",
              "      <td>0</td>\n",
              "      <td>0</td>\n",
              "      <td>0</td>\n",
              "      <td>0</td>\n",
              "      <td>0</td>\n",
              "      <td>0</td>\n",
              "      <td>0</td>\n",
              "      <td>...</td>\n",
              "      <td>0</td>\n",
              "      <td>0</td>\n",
              "      <td>0</td>\n",
              "      <td>0</td>\n",
              "      <td>0</td>\n",
              "      <td>0</td>\n",
              "      <td>0</td>\n",
              "      <td>0</td>\n",
              "      <td>0</td>\n",
              "      <td>0</td>\n",
              "    </tr>\n",
              "    <tr>\n",
              "      <th>4</th>\n",
              "      <td>0</td>\n",
              "      <td>0</td>\n",
              "      <td>0</td>\n",
              "      <td>0</td>\n",
              "      <td>0</td>\n",
              "      <td>0</td>\n",
              "      <td>0</td>\n",
              "      <td>0</td>\n",
              "      <td>0</td>\n",
              "      <td>0</td>\n",
              "      <td>...</td>\n",
              "      <td>0</td>\n",
              "      <td>0</td>\n",
              "      <td>0</td>\n",
              "      <td>0</td>\n",
              "      <td>0</td>\n",
              "      <td>0</td>\n",
              "      <td>0</td>\n",
              "      <td>0</td>\n",
              "      <td>0</td>\n",
              "      <td>0</td>\n",
              "    </tr>\n",
              "    <tr>\n",
              "      <th>...</th>\n",
              "      <td>...</td>\n",
              "      <td>...</td>\n",
              "      <td>...</td>\n",
              "      <td>...</td>\n",
              "      <td>...</td>\n",
              "      <td>...</td>\n",
              "      <td>...</td>\n",
              "      <td>...</td>\n",
              "      <td>...</td>\n",
              "      <td>...</td>\n",
              "      <td>...</td>\n",
              "      <td>...</td>\n",
              "      <td>...</td>\n",
              "      <td>...</td>\n",
              "      <td>...</td>\n",
              "      <td>...</td>\n",
              "      <td>...</td>\n",
              "      <td>...</td>\n",
              "      <td>...</td>\n",
              "      <td>...</td>\n",
              "      <td>...</td>\n",
              "    </tr>\n",
              "    <tr>\n",
              "      <th>5567</th>\n",
              "      <td>0</td>\n",
              "      <td>0</td>\n",
              "      <td>0</td>\n",
              "      <td>0</td>\n",
              "      <td>0</td>\n",
              "      <td>0</td>\n",
              "      <td>0</td>\n",
              "      <td>0</td>\n",
              "      <td>0</td>\n",
              "      <td>0</td>\n",
              "      <td>...</td>\n",
              "      <td>0</td>\n",
              "      <td>0</td>\n",
              "      <td>0</td>\n",
              "      <td>0</td>\n",
              "      <td>0</td>\n",
              "      <td>0</td>\n",
              "      <td>0</td>\n",
              "      <td>0</td>\n",
              "      <td>0</td>\n",
              "      <td>0</td>\n",
              "    </tr>\n",
              "    <tr>\n",
              "      <th>5568</th>\n",
              "      <td>0</td>\n",
              "      <td>0</td>\n",
              "      <td>0</td>\n",
              "      <td>0</td>\n",
              "      <td>0</td>\n",
              "      <td>0</td>\n",
              "      <td>0</td>\n",
              "      <td>0</td>\n",
              "      <td>0</td>\n",
              "      <td>0</td>\n",
              "      <td>...</td>\n",
              "      <td>0</td>\n",
              "      <td>0</td>\n",
              "      <td>0</td>\n",
              "      <td>0</td>\n",
              "      <td>0</td>\n",
              "      <td>0</td>\n",
              "      <td>0</td>\n",
              "      <td>0</td>\n",
              "      <td>0</td>\n",
              "      <td>0</td>\n",
              "    </tr>\n",
              "    <tr>\n",
              "      <th>5569</th>\n",
              "      <td>0</td>\n",
              "      <td>0</td>\n",
              "      <td>0</td>\n",
              "      <td>0</td>\n",
              "      <td>0</td>\n",
              "      <td>0</td>\n",
              "      <td>0</td>\n",
              "      <td>0</td>\n",
              "      <td>0</td>\n",
              "      <td>0</td>\n",
              "      <td>...</td>\n",
              "      <td>0</td>\n",
              "      <td>0</td>\n",
              "      <td>0</td>\n",
              "      <td>0</td>\n",
              "      <td>0</td>\n",
              "      <td>0</td>\n",
              "      <td>0</td>\n",
              "      <td>0</td>\n",
              "      <td>0</td>\n",
              "      <td>0</td>\n",
              "    </tr>\n",
              "    <tr>\n",
              "      <th>5570</th>\n",
              "      <td>0</td>\n",
              "      <td>0</td>\n",
              "      <td>0</td>\n",
              "      <td>0</td>\n",
              "      <td>0</td>\n",
              "      <td>0</td>\n",
              "      <td>0</td>\n",
              "      <td>0</td>\n",
              "      <td>0</td>\n",
              "      <td>0</td>\n",
              "      <td>...</td>\n",
              "      <td>0</td>\n",
              "      <td>0</td>\n",
              "      <td>0</td>\n",
              "      <td>0</td>\n",
              "      <td>0</td>\n",
              "      <td>0</td>\n",
              "      <td>0</td>\n",
              "      <td>0</td>\n",
              "      <td>0</td>\n",
              "      <td>0</td>\n",
              "    </tr>\n",
              "    <tr>\n",
              "      <th>5571</th>\n",
              "      <td>0</td>\n",
              "      <td>0</td>\n",
              "      <td>0</td>\n",
              "      <td>0</td>\n",
              "      <td>0</td>\n",
              "      <td>0</td>\n",
              "      <td>0</td>\n",
              "      <td>0</td>\n",
              "      <td>0</td>\n",
              "      <td>0</td>\n",
              "      <td>...</td>\n",
              "      <td>0</td>\n",
              "      <td>0</td>\n",
              "      <td>0</td>\n",
              "      <td>0</td>\n",
              "      <td>0</td>\n",
              "      <td>0</td>\n",
              "      <td>0</td>\n",
              "      <td>0</td>\n",
              "      <td>0</td>\n",
              "      <td>0</td>\n",
              "    </tr>\n",
              "  </tbody>\n",
              "</table>\n",
              "<p>5572 rows × 8404 columns</p>\n",
              "</div>\n",
              "      <button class=\"colab-df-convert\" onclick=\"convertToInteractive('df-063bc0aa-be8b-46e1-95c7-b8c26f0b5c67')\"\n",
              "              title=\"Convert this dataframe to an interactive table.\"\n",
              "              style=\"display:none;\">\n",
              "        \n",
              "  <svg xmlns=\"http://www.w3.org/2000/svg\" height=\"24px\"viewBox=\"0 0 24 24\"\n",
              "       width=\"24px\">\n",
              "    <path d=\"M0 0h24v24H0V0z\" fill=\"none\"/>\n",
              "    <path d=\"M18.56 5.44l.94 2.06.94-2.06 2.06-.94-2.06-.94-.94-2.06-.94 2.06-2.06.94zm-11 1L8.5 8.5l.94-2.06 2.06-.94-2.06-.94L8.5 2.5l-.94 2.06-2.06.94zm10 10l.94 2.06.94-2.06 2.06-.94-2.06-.94-.94-2.06-.94 2.06-2.06.94z\"/><path d=\"M17.41 7.96l-1.37-1.37c-.4-.4-.92-.59-1.43-.59-.52 0-1.04.2-1.43.59L10.3 9.45l-7.72 7.72c-.78.78-.78 2.05 0 2.83L4 21.41c.39.39.9.59 1.41.59.51 0 1.02-.2 1.41-.59l7.78-7.78 2.81-2.81c.8-.78.8-2.07 0-2.86zM5.41 20L4 18.59l7.72-7.72 1.47 1.35L5.41 20z\"/>\n",
              "  </svg>\n",
              "      </button>\n",
              "      \n",
              "  <style>\n",
              "    .colab-df-container {\n",
              "      display:flex;\n",
              "      flex-wrap:wrap;\n",
              "      gap: 12px;\n",
              "    }\n",
              "\n",
              "    .colab-df-convert {\n",
              "      background-color: #E8F0FE;\n",
              "      border: none;\n",
              "      border-radius: 50%;\n",
              "      cursor: pointer;\n",
              "      display: none;\n",
              "      fill: #1967D2;\n",
              "      height: 32px;\n",
              "      padding: 0 0 0 0;\n",
              "      width: 32px;\n",
              "    }\n",
              "\n",
              "    .colab-df-convert:hover {\n",
              "      background-color: #E2EBFA;\n",
              "      box-shadow: 0px 1px 2px rgba(60, 64, 67, 0.3), 0px 1px 3px 1px rgba(60, 64, 67, 0.15);\n",
              "      fill: #174EA6;\n",
              "    }\n",
              "\n",
              "    [theme=dark] .colab-df-convert {\n",
              "      background-color: #3B4455;\n",
              "      fill: #D2E3FC;\n",
              "    }\n",
              "\n",
              "    [theme=dark] .colab-df-convert:hover {\n",
              "      background-color: #434B5C;\n",
              "      box-shadow: 0px 1px 3px 1px rgba(0, 0, 0, 0.15);\n",
              "      filter: drop-shadow(0px 1px 2px rgba(0, 0, 0, 0.3));\n",
              "      fill: #FFFFFF;\n",
              "    }\n",
              "  </style>\n",
              "\n",
              "      <script>\n",
              "        const buttonEl =\n",
              "          document.querySelector('#df-063bc0aa-be8b-46e1-95c7-b8c26f0b5c67 button.colab-df-convert');\n",
              "        buttonEl.style.display =\n",
              "          google.colab.kernel.accessAllowed ? 'block' : 'none';\n",
              "\n",
              "        async function convertToInteractive(key) {\n",
              "          const element = document.querySelector('#df-063bc0aa-be8b-46e1-95c7-b8c26f0b5c67');\n",
              "          const dataTable =\n",
              "            await google.colab.kernel.invokeFunction('convertToInteractive',\n",
              "                                                     [key], {});\n",
              "          if (!dataTable) return;\n",
              "\n",
              "          const docLinkHtml = 'Like what you see? Visit the ' +\n",
              "            '<a target=\"_blank\" href=https://colab.research.google.com/notebooks/data_table.ipynb>data table notebook</a>'\n",
              "            + ' to learn more about interactive tables.';\n",
              "          element.innerHTML = '';\n",
              "          dataTable['output_type'] = 'display_data';\n",
              "          await google.colab.output.renderOutput(dataTable, element);\n",
              "          const docLink = document.createElement('div');\n",
              "          docLink.innerHTML = docLinkHtml;\n",
              "          element.appendChild(docLink);\n",
              "        }\n",
              "      </script>\n",
              "    </div>\n",
              "  </div>\n",
              "  "
            ]
          },
          "metadata": {},
          "execution_count": 29
        }
      ]
    },
    {
      "cell_type": "code",
      "source": [
        "#refreance\n",
        "# https://www.analyticsvidhya.com/blog/2021/08/data-preprocessing-in-data-mining-a-hands-on-guide/\n",
        "# codeBasics\n",
        "\n",
        "\n",
        "import pandas as pd\n",
        "import nltk\n",
        "from nltk.corpus import stopwords\n",
        "from nltk.tokenize import word_tokenize\n",
        "from nltk.stem import PorterStemmer\n",
        "\n",
        "# Download NLTK resources (only required for the first time)\n",
        "nltk.download('punkt')\n",
        "nltk.download('stopwords')\n",
        "\n",
        "# Read the dataset\n",
        "df = pd.read_csv(\"spam.csv\", encoding=\"latin-1\")\n",
        "\n",
        "# Preprocess the text data\n",
        "stop_words = set(stopwords.words('english'))\n",
        "stemmer = PorterStemmer()\n",
        "\n",
        "def preprocess_text(text):\n",
        "    # Tokenize the text\n",
        "    tokens = word_tokenize(text.lower())\n",
        "    \n",
        "    # Remove stopwords and punctuation\n",
        "    filtered_tokens = [token for token in tokens if token.isalpha() and token not in stop_words]\n",
        "    \n",
        "    # Stem the words\n",
        "    stemmed_tokens = [stemmer.stem(token) for token in filtered_tokens]\n",
        "    \n",
        "    # Join the tokens back into a single string\n",
        "    preprocessed_text = ' '.join(stemmed_tokens)\n",
        "    \n",
        "    return preprocessed_text\n",
        "\n",
        "# Apply the preprocessing function to the dataset\n",
        "df['v1'] = df['v2'].apply(preprocess_text)\n",
        "\n",
        "# Updated dataset with preprocessed text\n",
        "print(df.head())\n"
      ],
      "metadata": {
        "colab": {
          "base_uri": "https://localhost:8080/"
        },
        "id": "tELb-t--eFDH",
        "outputId": "136cb856-0d97-47fd-a829-cdfcc50f1628"
      },
      "execution_count": 30,
      "outputs": [
        {
          "output_type": "stream",
          "name": "stderr",
          "text": [
            "[nltk_data] Downloading package punkt to /root/nltk_data...\n",
            "[nltk_data]   Unzipping tokenizers/punkt.zip.\n",
            "[nltk_data] Downloading package stopwords to /root/nltk_data...\n",
            "[nltk_data]   Unzipping corpora/stopwords.zip.\n"
          ]
        },
        {
          "output_type": "stream",
          "name": "stdout",
          "text": [
            "                                                  v1  \\\n",
            "0  go jurong point crazi avail bugi n great world...   \n",
            "1                              ok lar joke wif u oni   \n",
            "2  free entri wkli comp win fa cup final tkt may ...   \n",
            "3                u dun say earli hor u c alreadi say   \n",
            "4               nah think goe usf live around though   \n",
            "\n",
            "                                                  v2 Unnamed: 2 Unnamed: 3  \\\n",
            "0  Go until jurong point, crazy.. Available only ...        NaN        NaN   \n",
            "1                      Ok lar... Joking wif u oni...        NaN        NaN   \n",
            "2  Free entry in 2 a wkly comp to win FA Cup fina...        NaN        NaN   \n",
            "3  U dun say so early hor... U c already then say...        NaN        NaN   \n",
            "4  Nah I don't think he goes to usf, he lives aro...        NaN        NaN   \n",
            "\n",
            "  Unnamed: 4  \n",
            "0        NaN  \n",
            "1        NaN  \n",
            "2        NaN  \n",
            "3        NaN  \n",
            "4        NaN  \n"
          ]
        }
      ]
    },
    {
      "cell_type": "code",
      "source": [
        "X_test_transformed=vec.transform(X_test)\n",
        "\n",
        "X_test_transformed\n",
        "\n"
      ],
      "metadata": {
        "colab": {
          "base_uri": "https://localhost:8080/"
        },
        "id": "Mo8aBH68RK49",
        "outputId": "68da86ad-b156-4acc-ef47-3dd3eeb7f04c"
      },
      "execution_count": 31,
      "outputs": [
        {
          "output_type": "execute_result",
          "data": {
            "text/plain": [
              "<1115x8404 sparse matrix of type '<class 'numpy.int64'>'\n",
              "\twith 8684 stored elements in Compressed Sparse Row format>"
            ]
          },
          "metadata": {},
          "execution_count": 31
        }
      ]
    },
    {
      "cell_type": "code",
      "source": [
        "X_test=X_test_transformed.toarray()\n",
        "X_test"
      ],
      "metadata": {
        "colab": {
          "base_uri": "https://localhost:8080/"
        },
        "id": "JQGgU_6gROxK",
        "outputId": "17cf894f-9865-421b-c05a-ff53a57bf1b6"
      },
      "execution_count": 32,
      "outputs": [
        {
          "output_type": "execute_result",
          "data": {
            "text/plain": [
              "array([[0, 0, 0, ..., 0, 0, 0],\n",
              "       [0, 0, 0, ..., 0, 0, 0],\n",
              "       [0, 0, 0, ..., 0, 0, 0],\n",
              "       ...,\n",
              "       [0, 0, 0, ..., 0, 0, 0],\n",
              "       [0, 0, 0, ..., 0, 0, 0],\n",
              "       [0, 0, 0, ..., 0, 0, 0]])"
            ]
          },
          "metadata": {},
          "execution_count": 32
        }
      ]
    },
    {
      "cell_type": "code",
      "source": [
        "from sklearn.naive_bayes import MultinomialNB"
      ],
      "metadata": {
        "id": "mlyfxmt9RS98"
      },
      "execution_count": 33,
      "outputs": []
    },
    {
      "cell_type": "code",
      "source": [
        "nb_classifier = MultinomialNB()\n",
        "\n",
        "nb_classifier.fit(X_train_count, y_train)\n",
        "\n",
        "y_pred = nb_classifier.predict(X_test_count)"
      ],
      "metadata": {
        "id": "5fpcjZQiUSrw"
      },
      "execution_count": 34,
      "outputs": []
    },
    {
      "cell_type": "code",
      "source": [
        "from sklearn import metrics"
      ],
      "metadata": {
        "id": "K9w_YjjyR72I"
      },
      "execution_count": 35,
      "outputs": []
    },
    {
      "cell_type": "code",
      "source": [
        "accuracy = metrics.accuracy_score(y_test, y_pred)\n",
        "print(\"Accuracy:\", accuracy)"
      ],
      "metadata": {
        "colab": {
          "base_uri": "https://localhost:8080/"
        },
        "id": "N8DKH6whRY7g",
        "outputId": "d4fce631-88cf-47f5-d0d1-304c1e5f3af8"
      },
      "execution_count": 81,
      "outputs": [
        {
          "output_type": "stream",
          "name": "stdout",
          "text": [
            "Accuracy: 0.9838565022421525\n"
          ]
        }
      ]
    },
    {
      "cell_type": "code",
      "source": [
        "from sklearn.metrics import classification_report\n",
        "\n",
        "y_pred = nb_classifier.predict(X_test_count)\n",
        "classification_rep = classification_report(y_test, y_pred)\n",
        "print(\"Classification Report:\")\n",
        "print(classification_rep)"
      ],
      "metadata": {
        "colab": {
          "base_uri": "https://localhost:8080/"
        },
        "id": "dANErkICUbEj",
        "outputId": "48b50a38-5701-4934-f36b-af3dca3f1076"
      },
      "execution_count": 80,
      "outputs": [
        {
          "output_type": "stream",
          "name": "stdout",
          "text": [
            "Classification Report:\n",
            "              precision    recall  f1-score   support\n",
            "\n",
            "           0       0.98      1.00      0.99       965\n",
            "           1       0.99      0.89      0.94       150\n",
            "\n",
            "    accuracy                           0.98      1115\n",
            "   macro avg       0.98      0.95      0.96      1115\n",
            "weighted avg       0.98      0.98      0.98      1115\n",
            "\n"
          ]
        }
      ]
    },
    {
      "cell_type": "code",
      "source": [
        "# i use bing to show the report as matplot.\n",
        "\n",
        "import matplotlib.pyplot as plt\n",
        "from sklearn.metrics import classification_report\n",
        "\n",
        "y_pred = nb_classifier.predict(X_test_count)\n",
        "classification_rep = classification_report(y_test, y_pred, output_dict=True)\n",
        "\n",
        "# Convert the classification report to a DataFrame\n",
        "report_df = pd.DataFrame(classification_rep).transpose()\n",
        "\n",
        "# Remove the support column as it is not needed for plotting\n",
        "report_df.drop(\"support\", axis=1, inplace=True)\n",
        "\n",
        "# Plot the classification report\n",
        "fig, ax = plt.subplots(figsize=(8, 4))\n",
        "ax.axis(\"off\")\n",
        "ax.table(cellText=report_df.values, colLabels=report_df.columns, cellLoc=\"center\", loc=\"center\", bbox=[0, 0, 1, 1])\n",
        "\n",
        "# Show the plot\n",
        "plt.show()\n",
        "\n"
      ],
      "metadata": {
        "id": "hF6QJ0C_WBSk",
        "outputId": "d65d1246-b154-4527-da40-3a655761b2b6",
        "colab": {
          "base_uri": "https://localhost:8080/",
          "height": 345
        }
      },
      "execution_count": 38,
      "outputs": [
        {
          "output_type": "display_data",
          "data": {
            "text/plain": [
              "<Figure size 800x400 with 1 Axes>"
            ],
            "image/png": "[encoded data removed]"
          },
          "metadata": {}
        }
      ]
    },
    {
      "cell_type": "code",
      "source": [
        "# from sklearn.metrics import accuracy_score, classification_report\n",
        "# print(\"Classification Report:\")\n",
        "# print(classification_report(y_test, y_pred_test))"
      ],
      "metadata": {
        "id": "e3vDgAJJq8UP"
      },
      "execution_count": null,
      "outputs": []
    },
    {
      "cell_type": "code",
      "source": [
        "print(\"Ahmed Mujtaba  \")"
      ],
      "metadata": {
        "colab": {
          "base_uri": "https://localhost:8080/"
        },
        "id": "vXgJGh7zRrPX",
        "outputId": "10a3565c-a22d-445a-f443-1d1fe0c6a5ed"
      },
      "execution_count": 39,
      "outputs": [
        {
          "output_type": "stream",
          "name": "stdout",
          "text": [
            "Ahmed Mujtaba  \n"
          ]
        }
      ]
    },
    {
      "cell_type": "markdown",
      "source": [
        "**Multinomial Naive Bayes**\n",
        "\n",
        "\n",
        "---\n",
        "\n",
        "\n",
        " It is a classification algorithm that is commonly used in \n",
        "natural language processing (NLP) tasks, particularly in text classification problems. It is an extension of the Naive Bayes algorithm, which is based on Bayes' theorem."
      ],
      "metadata": {
        "id": "znx4wGyQSrpF"
      }
    },
    {
      "cell_type": "code",
      "source": [
        "from sklearn.metrics import precision_score"
      ],
      "metadata": {
        "id": "1EUmA903X9ai"
      },
      "execution_count": 41,
      "outputs": []
    },
    {
      "cell_type": "code",
      "source": [
        "from sklearn.metrics import mean_squared_error, mean_absolute_error"
      ],
      "metadata": {
        "id": "GtPkgyXcX0T9"
      },
      "execution_count": 42,
      "outputs": []
    },
    {
      "cell_type": "code",
      "source": [
        "model_mnb1 =MultinomialNB()\n",
        "model_mnb1.fit(X_train_count,y_train)"
      ],
      "metadata": {
        "colab": {
          "base_uri": "https://localhost:8080/",
          "height": 75
        },
        "id": "Q7d4MFVNYX-P",
        "outputId": "afb74f8d-1dce-46af-8a36-1b6eb18a4454"
      },
      "execution_count": 46,
      "outputs": [
        {
          "output_type": "execute_result",
          "data": {
            "text/plain": [
              "MultinomialNB()"
            ],
            "text/html": [
              "<style>#sk-container-id-1 {color: black;background-color: white;}#sk-container-id-1 pre{padding: 0;}#sk-container-id-1 div.sk-toggleable {background-color: white;}#sk-container-id-1 label.sk-toggleable__label {cursor: pointer;display: block;width: 100%;margin-bottom: 0;padding: 0.3em;box-sizing: border-box;text-align: center;}#sk-container-id-1 label.sk-toggleable__label-arrow:before {content: \"▸\";float: left;margin-right: 0.25em;color: #696969;}#sk-container-id-1 label.sk-toggleable__label-arrow:hover:before {color: black;}#sk-container-id-1 div.sk-estimator:hover label.sk-toggleable__label-arrow:before {color: black;}#sk-container-id-1 div.sk-toggleable__content {max-height: 0;max-width: 0;overflow: hidden;text-align: left;background-color: #f0f8ff;}#sk-container-id-1 div.sk-toggleable__content pre {margin: 0.2em;color: black;border-radius: 0.25em;background-color: #f0f8ff;}#sk-container-id-1 input.sk-toggleable__control:checked~div.sk-toggleable__content {max-height: 200px;max-width: 100%;overflow: auto;}#sk-container-id-1 input.sk-toggleable__control:checked~label.sk-toggleable__label-arrow:before {content: \"▾\";}#sk-container-id-1 div.sk-estimator input.sk-toggleable__control:checked~label.sk-toggleable__label {background-color: #d4ebff;}#sk-container-id-1 div.sk-label input.sk-toggleable__control:checked~label.sk-toggleable__label {background-color: #d4ebff;}#sk-container-id-1 input.sk-hidden--visually {border: 0;clip: rect(1px 1px 1px 1px);clip: rect(1px, 1px, 1px, 1px);height: 1px;margin: -1px;overflow: hidden;padding: 0;position: absolute;width: 1px;}#sk-container-id-1 div.sk-estimator {font-family: monospace;background-color: #f0f8ff;border: 1px dotted black;border-radius: 0.25em;box-sizing: border-box;margin-bottom: 0.5em;}#sk-container-id-1 div.sk-estimator:hover {background-color: #d4ebff;}#sk-container-id-1 div.sk-parallel-item::after {content: \"\";width: 100%;border-bottom: 1px solid gray;flex-grow: 1;}#sk-container-id-1 div.sk-label:hover label.sk-toggleable__label {background-color: #d4ebff;}#sk-container-id-1 div.sk-serial::before {content: \"\";position: absolute;border-left: 1px solid gray;box-sizing: border-box;top: 0;bottom: 0;left: 50%;z-index: 0;}#sk-container-id-1 div.sk-serial {display: flex;flex-direction: column;align-items: center;background-color: white;padding-right: 0.2em;padding-left: 0.2em;position: relative;}#sk-container-id-1 div.sk-item {position: relative;z-index: 1;}#sk-container-id-1 div.sk-parallel {display: flex;align-items: stretch;justify-content: center;background-color: white;position: relative;}#sk-container-id-1 div.sk-item::before, #sk-container-id-1 div.sk-parallel-item::before {content: \"\";position: absolute;border-left: 1px solid gray;box-sizing: border-box;top: 0;bottom: 0;left: 50%;z-index: -1;}#sk-container-id-1 div.sk-parallel-item {display: flex;flex-direction: column;z-index: 1;position: relative;background-color: white;}#sk-container-id-1 div.sk-parallel-item:first-child::after {align-self: flex-end;width: 50%;}#sk-container-id-1 div.sk-parallel-item:last-child::after {align-self: flex-start;width: 50%;}#sk-container-id-1 div.sk-parallel-item:only-child::after {width: 0;}#sk-container-id-1 div.sk-dashed-wrapped {border: 1px dashed gray;margin: 0 0.4em 0.5em 0.4em;box-sizing: border-box;padding-bottom: 0.4em;background-color: white;}#sk-container-id-1 div.sk-label label {font-family: monospace;font-weight: bold;display: inline-block;line-height: 1.2em;}#sk-container-id-1 div.sk-label-container {text-align: center;}#sk-container-id-1 div.sk-container {/* jupyter's `normalize.less` sets `[hidden] { display: none; }` but bootstrap.min.css set `[hidden] { display: none !important; }` so we also need the `!important` here to be able to override the default hidden behavior on the sphinx rendered scikit-learn.org. See: https://github.com/scikit-learn/scikit-learn/issues/21755 */display: inline-block !important;position: relative;}#sk-container-id-1 div.sk-text-repr-fallback {display: none;}</style><div id=\"sk-container-id-1\" class=\"sk-top-container\"><div class=\"sk-text-repr-fallback\"><pre>MultinomialNB()</pre><b>In a Jupyter environment, please rerun this cell to show the HTML representation or trust the notebook. <br />On GitHub, the HTML representation is unable to render, please try loading this page with nbviewer.org.</b></div><div class=\"sk-container\" hidden><div class=\"sk-item\"><div class=\"sk-estimator sk-toggleable\"><input class=\"sk-toggleable__control sk-hidden--visually\" id=\"sk-estimator-id-1\" type=\"checkbox\" checked><label for=\"sk-estimator-id-1\" class=\"sk-toggleable__label sk-toggleable__label-arrow\">MultinomialNB</label><div class=\"sk-toggleable__content\"><pre>MultinomialNB()</pre></div></div></div></div></div>"
            ]
          },
          "metadata": {},
          "execution_count": 46
        }
      ]
    },
    {
      "cell_type": "code",
      "source": [
        "y_pred_mnb = model_mnb1.predict(X_train_count) #my X_text and X_train are same \n"
      ],
      "metadata": {
        "id": "LrTTYThWYdsN"
      },
      "execution_count": 76,
      "outputs": []
    },
    {
      "cell_type": "code",
      "source": [
        "y_pred_mnb"
      ],
      "metadata": {
        "colab": {
          "base_uri": "https://localhost:8080/"
        },
        "id": "J8yClzIgbe6Z",
        "outputId": "b9242e3f-bf17-4d29-e6e9-e2092bb9a0ed"
      },
      "execution_count": 77,
      "outputs": [
        {
          "output_type": "execute_result",
          "data": {
            "text/plain": [
              "array([0, 1, 0, ..., 0, 0, 0])"
            ]
          },
          "metadata": {},
          "execution_count": 77
        }
      ]
    },
    {
      "cell_type": "code",
      "source": [
        "# print(\"Accuracy score: \", accuracy_score(y_test, y_pred_mnb))\n",
        "# print(\"Precision score: \", precision_score(y_test, y_pred_mnb))\n",
        "\n",
        "from sklearn.metrics import accuracy_score, precision_score\n",
        "\n"
      ],
      "metadata": {
        "id": "pysPD8AQZ24V"
      },
      "execution_count": 78,
      "outputs": []
    },
    {
      "cell_type": "code",
      "source": [
        "print(\"Accuracy score using Multinomial Naive Bayes \", accuracy_score(y_test, y_pred))\n",
        "print(\"Precision score Multinomial Naive Bayes \", precision_score(y_test, y_pred))\n",
        "\n"
      ],
      "metadata": {
        "colab": {
          "base_uri": "https://localhost:8080/"
        },
        "id": "ymwQO4n3bJ-M",
        "outputId": "39627724-3ba3-455f-d421-0ef54bcff99e"
      },
      "execution_count": 83,
      "outputs": [
        {
          "output_type": "stream",
          "name": "stdout",
          "text": [
            "Accuracy score using Multinomial Naive Bayes  0.9838565022421525\n",
            "Precision score Multinomial Naive Bayes  0.9852941176470589\n"
          ]
        }
      ]
    },
    {
      "cell_type": "markdown",
      "source": [
        "\n",
        "**Calculate RMSE** \n",
        "\n",
        "\n"
      ],
      "metadata": {
        "id": "D9TawhSUcyaS"
      }
    },
    {
      "cell_type": "code",
      "source": [
        "rmse_mnb = np.sqrt(mean_squared_error(y_test, y_pred))\n",
        "\n",
        "print(\"Root Mean Square Error using Multinomial Naive Bayes \", rmse_mnb)\n"
      ],
      "metadata": {
        "colab": {
          "base_uri": "https://localhost:8080/"
        },
        "id": "9jYpy4ljdBl7",
        "outputId": "16962d6a-9c27-4b3b-a16c-7366cb5d76b5"
      },
      "execution_count": 147,
      "outputs": [
        {
          "output_type": "stream",
          "name": "stdout",
          "text": [
            "Root Mean Square Error using Multinomial Naive Bayes  0.12705706496628802\n"
          ]
        }
      ]
    },
    {
      "cell_type": "markdown",
      "source": [
        "**Calculate** **MSE**"
      ],
      "metadata": {
        "id": "9Vzjsi3YlZEG"
      }
    },
    {
      "cell_type": "code",
      "source": [
        "mse_mnb = mean_squared_error(y_test, y_pred)\n",
        "print(\"Mean Squared Error using Multinomial Naive Bayes:\", mse_mnb)"
      ],
      "metadata": {
        "colab": {
          "base_uri": "https://localhost:8080/"
        },
        "id": "fujQfxwhlOqP",
        "outputId": "42003040-ba81-4b89-a0de-3ca47139cf5a"
      },
      "execution_count": 119,
      "outputs": [
        {
          "output_type": "stream",
          "name": "stdout",
          "text": [
            "Mean Squared Error : 0.016143497757847534\n"
          ]
        }
      ]
    },
    {
      "cell_type": "markdown",
      "source": [
        "**Calculate** **MAE**"
      ],
      "metadata": {
        "id": "QiF6gxIzlb3h"
      }
    },
    {
      "cell_type": "code",
      "source": [
        "mae_mnb = mean_absolute_error(y_test, y_pred)\n",
        "print(\"Mean Absolute Error using Multinomial Naive Bayes\", mae_mnb)"
      ],
      "metadata": {
        "colab": {
          "base_uri": "https://localhost:8080/"
        },
        "id": "WFHxdFeglO8Y",
        "outputId": "4eb80da5-2d0d-4584-b096-d58d2ae92f96"
      },
      "execution_count": 120,
      "outputs": [
        {
          "output_type": "stream",
          "name": "stdout",
          "text": [
            "Mean Absolute Error  0.016143497757847534\n"
          ]
        }
      ]
    },
    {
      "cell_type": "markdown",
      "source": [
        "**Logistic Regression**\n",
        "\n",
        "\n",
        "---\n",
        "\n",
        "\n",
        "it is a statistical method used for binary classification tasks, where the goal is to predict a binary outcome (e.g., yes/no, true/false, 0/1). Despite its name, logistic regression is a classification algorithm rather than a regression algorithm.\n"
      ],
      "metadata": {
        "id": "3K2GPWhqhN5b"
      }
    },
    {
      "cell_type": "code",
      "source": [
        "from sklearn.linear_model import LogisticRegression"
      ],
      "metadata": {
        "id": "YXNaBK8BhUR2"
      },
      "execution_count": 87,
      "outputs": []
    },
    {
      "cell_type": "code",
      "source": [
        "model_LR = LogisticRegression()"
      ],
      "metadata": {
        "id": "LNvMUptFhchK"
      },
      "execution_count": 88,
      "outputs": []
    },
    {
      "cell_type": "code",
      "source": [
        "model_LR.fit(X_train_count,y_train)"
      ],
      "metadata": {
        "colab": {
          "base_uri": "https://localhost:8080/",
          "height": 75
        },
        "id": "yxx7GYPUhllS",
        "outputId": "d7dde2a5-9808-437e-b272-1b632bb93aa4"
      },
      "execution_count": 91,
      "outputs": [
        {
          "output_type": "execute_result",
          "data": {
            "text/plain": [
              "LogisticRegression()"
            ],
            "text/html": [
              "<style>#sk-container-id-2 {color: black;background-color: white;}#sk-container-id-2 pre{padding: 0;}#sk-container-id-2 div.sk-toggleable {background-color: white;}#sk-container-id-2 label.sk-toggleable__label {cursor: pointer;display: block;width: 100%;margin-bottom: 0;padding: 0.3em;box-sizing: border-box;text-align: center;}#sk-container-id-2 label.sk-toggleable__label-arrow:before {content: \"▸\";float: left;margin-right: 0.25em;color: #696969;}#sk-container-id-2 label.sk-toggleable__label-arrow:hover:before {color: black;}#sk-container-id-2 div.sk-estimator:hover label.sk-toggleable__label-arrow:before {color: black;}#sk-container-id-2 div.sk-toggleable__content {max-height: 0;max-width: 0;overflow: hidden;text-align: left;background-color: #f0f8ff;}#sk-container-id-2 div.sk-toggleable__content pre {margin: 0.2em;color: black;border-radius: 0.25em;background-color: #f0f8ff;}#sk-container-id-2 input.sk-toggleable__control:checked~div.sk-toggleable__content {max-height: 200px;max-width: 100%;overflow: auto;}#sk-container-id-2 input.sk-toggleable__control:checked~label.sk-toggleable__label-arrow:before {content: \"▾\";}#sk-container-id-2 div.sk-estimator input.sk-toggleable__control:checked~label.sk-toggleable__label {background-color: #d4ebff;}#sk-container-id-2 div.sk-label input.sk-toggleable__control:checked~label.sk-toggleable__label {background-color: #d4ebff;}#sk-container-id-2 input.sk-hidden--visually {border: 0;clip: rect(1px 1px 1px 1px);clip: rect(1px, 1px, 1px, 1px);height: 1px;margin: -1px;overflow: hidden;padding: 0;position: absolute;width: 1px;}#sk-container-id-2 div.sk-estimator {font-family: monospace;background-color: #f0f8ff;border: 1px dotted black;border-radius: 0.25em;box-sizing: border-box;margin-bottom: 0.5em;}#sk-container-id-2 div.sk-estimator:hover {background-color: #d4ebff;}#sk-container-id-2 div.sk-parallel-item::after {content: \"\";width: 100%;border-bottom: 1px solid gray;flex-grow: 1;}#sk-container-id-2 div.sk-label:hover label.sk-toggleable__label {background-color: #d4ebff;}#sk-container-id-2 div.sk-serial::before {content: \"\";position: absolute;border-left: 1px solid gray;box-sizing: border-box;top: 0;bottom: 0;left: 50%;z-index: 0;}#sk-container-id-2 div.sk-serial {display: flex;flex-direction: column;align-items: center;background-color: white;padding-right: 0.2em;padding-left: 0.2em;position: relative;}#sk-container-id-2 div.sk-item {position: relative;z-index: 1;}#sk-container-id-2 div.sk-parallel {display: flex;align-items: stretch;justify-content: center;background-color: white;position: relative;}#sk-container-id-2 div.sk-item::before, #sk-container-id-2 div.sk-parallel-item::before {content: \"\";position: absolute;border-left: 1px solid gray;box-sizing: border-box;top: 0;bottom: 0;left: 50%;z-index: -1;}#sk-container-id-2 div.sk-parallel-item {display: flex;flex-direction: column;z-index: 1;position: relative;background-color: white;}#sk-container-id-2 div.sk-parallel-item:first-child::after {align-self: flex-end;width: 50%;}#sk-container-id-2 div.sk-parallel-item:last-child::after {align-self: flex-start;width: 50%;}#sk-container-id-2 div.sk-parallel-item:only-child::after {width: 0;}#sk-container-id-2 div.sk-dashed-wrapped {border: 1px dashed gray;margin: 0 0.4em 0.5em 0.4em;box-sizing: border-box;padding-bottom: 0.4em;background-color: white;}#sk-container-id-2 div.sk-label label {font-family: monospace;font-weight: bold;display: inline-block;line-height: 1.2em;}#sk-container-id-2 div.sk-label-container {text-align: center;}#sk-container-id-2 div.sk-container {/* jupyter's `normalize.less` sets `[hidden] { display: none; }` but bootstrap.min.css set `[hidden] { display: none !important; }` so we also need the `!important` here to be able to override the default hidden behavior on the sphinx rendered scikit-learn.org. See: https://github.com/scikit-learn/scikit-learn/issues/21755 */display: inline-block !important;position: relative;}#sk-container-id-2 div.sk-text-repr-fallback {display: none;}</style><div id=\"sk-container-id-2\" class=\"sk-top-container\"><div class=\"sk-text-repr-fallback\"><pre>LogisticRegression()</pre><b>In a Jupyter environment, please rerun this cell to show the HTML representation or trust the notebook. <br />On GitHub, the HTML representation is unable to render, please try loading this page with nbviewer.org.</b></div><div class=\"sk-container\" hidden><div class=\"sk-item\"><div class=\"sk-estimator sk-toggleable\"><input class=\"sk-toggleable__control sk-hidden--visually\" id=\"sk-estimator-id-2\" type=\"checkbox\" checked><label for=\"sk-estimator-id-2\" class=\"sk-toggleable__label sk-toggleable__label-arrow\">LogisticRegression</label><div class=\"sk-toggleable__content\"><pre>LogisticRegression()</pre></div></div></div></div></div>"
            ]
          },
          "metadata": {},
          "execution_count": 91
        }
      ]
    },
    {
      "cell_type": "code",
      "source": [
        "y_pred_LR=model_LR.predict(X_train_count)"
      ],
      "metadata": {
        "id": "lUtVtyW3hwuT"
      },
      "execution_count": 97,
      "outputs": []
    },
    {
      "cell_type": "code",
      "source": [
        "y_pred_LR"
      ],
      "metadata": {
        "colab": {
          "base_uri": "https://localhost:8080/"
        },
        "id": "B9cXuFJ8iCA9",
        "outputId": "32de2d28-3715-4d0a-ce2e-346413f55687"
      },
      "execution_count": 98,
      "outputs": [
        {
          "output_type": "execute_result",
          "data": {
            "text/plain": [
              "array([0, 1, 0, ..., 0, 0, 0])"
            ]
          },
          "metadata": {},
          "execution_count": 98
        }
      ]
    },
    {
      "cell_type": "code",
      "source": [
        "print(\"accuracy score LR \",accuracy_score(y_test,y_pred))\n",
        "print(\"precision score  LR\",precision_score(y_test,y_pred))\n"
      ],
      "metadata": {
        "colab": {
          "base_uri": "https://localhost:8080/"
        },
        "id": "tZvLP53MiGWO",
        "outputId": "b521128b-afff-4dbe-d935-1bebc6b02583"
      },
      "execution_count": 101,
      "outputs": [
        {
          "output_type": "stream",
          "name": "stdout",
          "text": [
            "accuracy score LR  0.9838565022421525\n",
            "precision score  LR 0.9852941176470589\n"
          ]
        }
      ]
    },
    {
      "cell_type": "code",
      "source": [
        "rmse_LR = np.sqrt(mean_squared_error(y_test, y_pred))\n",
        "print(\"Root Mean Square Error Logistic Regression\", rmse_LR)"
      ],
      "metadata": {
        "colab": {
          "base_uri": "https://localhost:8080/"
        },
        "id": "CzlExmWdiXZG",
        "outputId": "67e7e129-bd3c-4200-e191-97e158e8176a"
      },
      "execution_count": 124,
      "outputs": [
        {
          "output_type": "stream",
          "name": "stdout",
          "text": [
            "Root Mean Square Error Logistic Regression 0.12705706496628802\n"
          ]
        }
      ]
    },
    {
      "cell_type": "code",
      "source": [
        "mse_LR = mean_squared_error(y_test, y_pred)\n",
        "print(\"Mean Squared Error Logistic Regression\", mse_LR)"
      ],
      "metadata": {
        "colab": {
          "base_uri": "https://localhost:8080/"
        },
        "id": "TtH7mQ68ieBH",
        "outputId": "82ff80a7-bd68-43c1-9dca-541913239190"
      },
      "execution_count": 125,
      "outputs": [
        {
          "output_type": "stream",
          "name": "stdout",
          "text": [
            "Mean Squared Error Logistic Regression 0.016143497757847534\n"
          ]
        }
      ]
    },
    {
      "cell_type": "code",
      "source": [
        "mae_LR = mean_absolute_error(y_test, y_pred)\n",
        "print(\"Mean Absolute Error Logistic Regression\", mae_LR)"
      ],
      "metadata": {
        "colab": {
          "base_uri": "https://localhost:8080/"
        },
        "id": "h4jeDJmQl-iZ",
        "outputId": "14b6af45-f852-476c-a7d9-f19b854c4526"
      },
      "execution_count": 126,
      "outputs": [
        {
          "output_type": "stream",
          "name": "stdout",
          "text": [
            "Mean Absolute Error Logistic Regression 0.016143497757847534\n"
          ]
        }
      ]
    },
    {
      "cell_type": "markdown",
      "source": [
        " **Decision tree** \n",
        "\n",
        "---\n",
        "\n",
        "\n",
        " a decision tree is a supervised learning algorithm that can be used for both classification and regression tasks. It is a predictive model that maps observations about an item to conclusions about its target value."
      ],
      "metadata": {
        "id": "o5MmIJZpiydX"
      }
    },
    {
      "cell_type": "code",
      "source": [
        "from sklearn.tree import DecisionTreeClassifier"
      ],
      "metadata": {
        "id": "x0PuVe_djAX4"
      },
      "execution_count": 104,
      "outputs": []
    },
    {
      "cell_type": "code",
      "source": [
        "model_DT = DecisionTreeClassifier()\n",
        "\n",
        "model_DT.fit(X_train_count, y_train)"
      ],
      "metadata": {
        "colab": {
          "base_uri": "https://localhost:8080/",
          "height": 75
        },
        "id": "bANM7-JsjJtu",
        "outputId": "e7823dce-e941-4b41-86c5-7aa751742942"
      },
      "execution_count": 107,
      "outputs": [
        {
          "output_type": "execute_result",
          "data": {
            "text/plain": [
              "DecisionTreeClassifier()"
            ],
            "text/html": [
              "<style>#sk-container-id-3 {color: black;background-color: white;}#sk-container-id-3 pre{padding: 0;}#sk-container-id-3 div.sk-toggleable {background-color: white;}#sk-container-id-3 label.sk-toggleable__label {cursor: pointer;display: block;width: 100%;margin-bottom: 0;padding: 0.3em;box-sizing: border-box;text-align: center;}#sk-container-id-3 label.sk-toggleable__label-arrow:before {content: \"▸\";float: left;margin-right: 0.25em;color: #696969;}#sk-container-id-3 label.sk-toggleable__label-arrow:hover:before {color: black;}#sk-container-id-3 div.sk-estimator:hover label.sk-toggleable__label-arrow:before {color: black;}#sk-container-id-3 div.sk-toggleable__content {max-height: 0;max-width: 0;overflow: hidden;text-align: left;background-color: #f0f8ff;}#sk-container-id-3 div.sk-toggleable__content pre {margin: 0.2em;color: black;border-radius: 0.25em;background-color: #f0f8ff;}#sk-container-id-3 input.sk-toggleable__control:checked~div.sk-toggleable__content {max-height: 200px;max-width: 100%;overflow: auto;}#sk-container-id-3 input.sk-toggleable__control:checked~label.sk-toggleable__label-arrow:before {content: \"▾\";}#sk-container-id-3 div.sk-estimator input.sk-toggleable__control:checked~label.sk-toggleable__label {background-color: #d4ebff;}#sk-container-id-3 div.sk-label input.sk-toggleable__control:checked~label.sk-toggleable__label {background-color: #d4ebff;}#sk-container-id-3 input.sk-hidden--visually {border: 0;clip: rect(1px 1px 1px 1px);clip: rect(1px, 1px, 1px, 1px);height: 1px;margin: -1px;overflow: hidden;padding: 0;position: absolute;width: 1px;}#sk-container-id-3 div.sk-estimator {font-family: monospace;background-color: #f0f8ff;border: 1px dotted black;border-radius: 0.25em;box-sizing: border-box;margin-bottom: 0.5em;}#sk-container-id-3 div.sk-estimator:hover {background-color: #d4ebff;}#sk-container-id-3 div.sk-parallel-item::after {content: \"\";width: 100%;border-bottom: 1px solid gray;flex-grow: 1;}#sk-container-id-3 div.sk-label:hover label.sk-toggleable__label {background-color: #d4ebff;}#sk-container-id-3 div.sk-serial::before {content: \"\";position: absolute;border-left: 1px solid gray;box-sizing: border-box;top: 0;bottom: 0;left: 50%;z-index: 0;}#sk-container-id-3 div.sk-serial {display: flex;flex-direction: column;align-items: center;background-color: white;padding-right: 0.2em;padding-left: 0.2em;position: relative;}#sk-container-id-3 div.sk-item {position: relative;z-index: 1;}#sk-container-id-3 div.sk-parallel {display: flex;align-items: stretch;justify-content: center;background-color: white;position: relative;}#sk-container-id-3 div.sk-item::before, #sk-container-id-3 div.sk-parallel-item::before {content: \"\";position: absolute;border-left: 1px solid gray;box-sizing: border-box;top: 0;bottom: 0;left: 50%;z-index: -1;}#sk-container-id-3 div.sk-parallel-item {display: flex;flex-direction: column;z-index: 1;position: relative;background-color: white;}#sk-container-id-3 div.sk-parallel-item:first-child::after {align-self: flex-end;width: 50%;}#sk-container-id-3 div.sk-parallel-item:last-child::after {align-self: flex-start;width: 50%;}#sk-container-id-3 div.sk-parallel-item:only-child::after {width: 0;}#sk-container-id-3 div.sk-dashed-wrapped {border: 1px dashed gray;margin: 0 0.4em 0.5em 0.4em;box-sizing: border-box;padding-bottom: 0.4em;background-color: white;}#sk-container-id-3 div.sk-label label {font-family: monospace;font-weight: bold;display: inline-block;line-height: 1.2em;}#sk-container-id-3 div.sk-label-container {text-align: center;}#sk-container-id-3 div.sk-container {/* jupyter's `normalize.less` sets `[hidden] { display: none; }` but bootstrap.min.css set `[hidden] { display: none !important; }` so we also need the `!important` here to be able to override the default hidden behavior on the sphinx rendered scikit-learn.org. See: https://github.com/scikit-learn/scikit-learn/issues/21755 */display: inline-block !important;position: relative;}#sk-container-id-3 div.sk-text-repr-fallback {display: none;}</style><div id=\"sk-container-id-3\" class=\"sk-top-container\"><div class=\"sk-text-repr-fallback\"><pre>DecisionTreeClassifier()</pre><b>In a Jupyter environment, please rerun this cell to show the HTML representation or trust the notebook. <br />On GitHub, the HTML representation is unable to render, please try loading this page with nbviewer.org.</b></div><div class=\"sk-container\" hidden><div class=\"sk-item\"><div class=\"sk-estimator sk-toggleable\"><input class=\"sk-toggleable__control sk-hidden--visually\" id=\"sk-estimator-id-3\" type=\"checkbox\" checked><label for=\"sk-estimator-id-3\" class=\"sk-toggleable__label sk-toggleable__label-arrow\">DecisionTreeClassifier</label><div class=\"sk-toggleable__content\"><pre>DecisionTreeClassifier()</pre></div></div></div></div></div>"
            ]
          },
          "metadata": {},
          "execution_count": 107
        }
      ]
    },
    {
      "cell_type": "code",
      "source": [
        "y_pred_DT = model_DT.predict(X_train_count)\n"
      ],
      "metadata": {
        "id": "30g4EniLjYZs"
      },
      "execution_count": 113,
      "outputs": []
    },
    {
      "cell_type": "code",
      "source": [
        "print(\"accuracy score DT \",accuracy_score(y_test,y_pred))\n",
        "print(\"precision score Dt \",precision_score(y_test,y_pred))"
      ],
      "metadata": {
        "colab": {
          "base_uri": "https://localhost:8080/"
        },
        "id": "Vz5r1vR5juK-",
        "outputId": "35504682-80be-49e3-c0ea-d3171ed6c52b"
      },
      "execution_count": 127,
      "outputs": [
        {
          "output_type": "stream",
          "name": "stdout",
          "text": [
            "accuracy score DT  0.9838565022421525\n",
            "precision score Dt  0.9852941176470589\n"
          ]
        }
      ]
    },
    {
      "cell_type": "code",
      "source": [
        "rmse_DT = np.sqrt(mean_squared_error(y_test, y_pred))\n",
        "print(\"Root Mean Square Error Decision tree\", rmse_DT)"
      ],
      "metadata": {
        "colab": {
          "base_uri": "https://localhost:8080/"
        },
        "id": "KAhW05sUmugy",
        "outputId": "ac85a950-ebfc-4afe-aab3-81a0ca257b74"
      },
      "execution_count": 131,
      "outputs": [
        {
          "output_type": "stream",
          "name": "stdout",
          "text": [
            "Root Mean Square Error Decision tree 0.12705706496628802\n"
          ]
        }
      ]
    },
    {
      "cell_type": "code",
      "source": [
        "mse_DT = mean_squared_error(y_test, y_pred)\n",
        "print(\"Mean Squared Error Decision tree\", mse_DT)"
      ],
      "metadata": {
        "colab": {
          "base_uri": "https://localhost:8080/"
        },
        "id": "lHxbP47PmukI",
        "outputId": "8f9f192f-8662-41ca-d54e-fe9049c09323"
      },
      "execution_count": 132,
      "outputs": [
        {
          "output_type": "stream",
          "name": "stdout",
          "text": [
            "Mean Squared Error Decision tree 0.016143497757847534\n"
          ]
        }
      ]
    },
    {
      "cell_type": "code",
      "source": [
        "mae_DT = mean_absolute_error(y_test, y_pred)\n",
        "print(\"Mean Absolute Error Decision tree\", mae_DT)"
      ],
      "metadata": {
        "colab": {
          "base_uri": "https://localhost:8080/"
        },
        "id": "RgFgi2s8mu-E",
        "outputId": "27fff1be-b301-4b4b-efde-6d09088f02e8"
      },
      "execution_count": 134,
      "outputs": [
        {
          "output_type": "stream",
          "name": "stdout",
          "text": [
            "Mean Absolute Error Decision tree 0.016143497757847534\n"
          ]
        }
      ]
    },
    {
      "cell_type": "markdown",
      "source": [
        "**Comparison** **graph**"
      ],
      "metadata": {
        "id": "VzBMtgBTno7n"
      }
    },
    {
      "cell_type": "code",
      "source": [
        "models = [\"Multinomial-naive-bayes\", \"Logistics-regression\", \"Decision-tree\"]\n",
        "rmse = [rmse_mnb, rmse_LR, rmse_DT]\n",
        "mae = [mse_mnb, mse_LR, mse_DT]\n",
        "mse = [mae_mnb, mae_LR, mae_DT]"
      ],
      "metadata": {
        "id": "sN6S7cy7qJlz"
      },
      "execution_count": 150,
      "outputs": []
    },
    {
      "cell_type": "code",
      "source": [
        "width = 0.1"
      ],
      "metadata": {
        "id": "HsL35tfPqQz-"
      },
      "execution_count": 154,
      "outputs": []
    },
    {
      "cell_type": "code",
      "source": [
        "x1 = np.arange(len(models))\n",
        "x2 = [x + width for x in x1]\n",
        "x3 = [x + width for x in x2]"
      ],
      "metadata": {
        "id": "j8caSudBqWI8"
      },
      "execution_count": 156,
      "outputs": []
    },
    {
      "cell_type": "code",
      "source": [
        "plt.bar(x1, rmse, width=width, color=\"#a69cac\", label=\"RMSE\")\n",
        "plt.bar(x2, mae, width=width, color=\"#474973\", label=\"MAE\")\n",
        "plt.bar(x3, mse, width=width, color=\"#161b33\", label=\"MSE\")"
      ],
      "metadata": {
        "colab": {
          "base_uri": "https://localhost:8080/",
          "height": 447
        },
        "id": "H4WTioTCqjDF",
        "outputId": "a6a26cf6-47c0-450a-ec21-87b264a56709"
      },
      "execution_count": 161,
      "outputs": [
        {
          "output_type": "execute_result",
          "data": {
            "text/plain": [
              "<BarContainer object of 3 artists>"
            ]
          },
          "metadata": {},
          "execution_count": 161
        },
        {
          "output_type": "display_data",
          "data": {
            "text/plain": [
              "<Figure size 640x480 with 1 Axes>"
            ],
            "image/png": "[encoded data removed]"
          },
          "metadata": {}
        }
      ]
    },
    {
      "cell_type": "code",
      "source": [
        "plt.xlabel(\"Machine Learning Models\")\n",
        "plt.ylabel(\"Evaluation Measures\")\n",
        "plt.title(\"Comparative Analysis for cluster ID C0M1\")\n",
        "plt.xticks(x2, models, rotation=45)\n",
        "plt.legend(loc=\"upper right\", bbox_to_anchor=(1.25, 1))"
      ],
      "metadata": {
        "colab": {
          "base_uri": "https://localhost:8080/",
          "height": 643
        },
        "id": "GeJunCWBqpv5",
        "outputId": "10fe2b8a-cb45-4eb0-9388-f0abe1ec9cd1"
      },
      "execution_count": 160,
      "outputs": [
        {
          "output_type": "stream",
          "name": "stderr",
          "text": [
            "WARNING:matplotlib.legend:No artists with labels found to put in legend.  Note that artists whose label start with an underscore are ignored when legend() is called with no argument.\n"
          ]
        },
        {
          "output_type": "execute_result",
          "data": {
            "text/plain": [
              "<matplotlib.legend.Legend at 0x7fefc956baf0>"
            ]
          },
          "metadata": {},
          "execution_count": 160
        },
        {
          "output_type": "display_data",
          "data": {
            "text/plain": [
              "<Figure size 640x480 with 1 Axes>"
            ],
            "image/png": "[encoded data removed]"
          },
          "metadata": {}
        }
      ]
    },
    {
      "cell_type": "code",
      "source": [
        "plt.show()"
      ],
      "metadata": {
        "id": "DFCzqjPKqvOr"
      },
      "execution_count": 159,
      "outputs": []
    }
  ]
}